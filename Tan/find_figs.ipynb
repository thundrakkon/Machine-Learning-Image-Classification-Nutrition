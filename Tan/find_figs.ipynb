{
 "metadata": {
  "language_info": {
   "codemirror_mode": {
    "name": "ipython",
    "version": 3
   },
   "file_extension": ".py",
   "mimetype": "text/x-python",
   "name": "python",
   "nbconvert_exporter": "python",
   "pygments_lexer": "ipython3",
   "version": "3.7.6-final"
  },
  "orig_nbformat": 2,
  "kernelspec": {
   "name": "python_defaultSpec_1597980405934",
   "display_name": "Python 3.7.6 64-bit ('base': conda)"
  }
 },
 "nbformat": 4,
 "nbformat_minor": 2,
 "cells": [
  {
   "cell_type": "code",
   "execution_count": 85,
   "metadata": {},
   "outputs": [],
   "source": [
    "import pandas as pd"
   ]
  },
  {
   "cell_type": "code",
   "execution_count": 87,
   "metadata": {},
   "outputs": [
    {
     "output_type": "execute_result",
     "data": {
      "text/plain": "Index(['Additional Descriptions', 'All Highlight Fields', 'Common Names',\n       'Data Type', 'Derivation Code', 'Derivation Description', 'Description',\n       'Document Index (generated)', 'Fdc Id', 'Food Code',\n       'foodNutrients Index (generated)', 'foods Index (generated)',\n       'Ndb Number', 'Nutrient Id', 'Nutrient Name', 'Nutrient Number',\n       'Published Date', 'Scientific Name', 'Unit Name',\n       'Number of Records per result.json', 'Score', 'Value'],\n      dtype='object')"
     },
     "metadata": {},
     "execution_count": 87
    }
   ],
   "source": [
    "file = \"figs.csv\"\n",
    "df = pd.read_csv(file)\n",
    "df.columns\n"
   ]
  },
  {
   "cell_type": "code",
   "execution_count": 27,
   "metadata": {},
   "outputs": [
    {
     "output_type": "execute_result",
     "data": {
      "text/plain": "   Description                   Nutrient Name Unit Name     Value\n0   Grapefruit                         Protein         G     0.630\n1   Grapefruit               Total lipid (fat)         G     0.100\n2   Grapefruit     Carbohydrate, by difference         G     8.080\n3   Grapefruit                          Energy      KCAL    32.000\n4   Grapefruit                  Alcohol, ethyl         G     0.000\n5   Grapefruit                           Water         G    90.890\n6   Grapefruit                        Caffeine        MG     0.000\n7   Grapefruit                     Theobromine        MG     0.000\n8   Grapefruit    Sugars, total including NLEA         G     6.980\n9   Grapefruit            Fiber, total dietary         G     1.100\n10  Grapefruit                     Calcium, Ca        MG    12.000\n11  Grapefruit                        Iron, Fe        MG     0.090\n12  Grapefruit                   Magnesium, Mg        MG     8.000\n13  Grapefruit                   Phosphorus, P        MG     8.000\n14  Grapefruit                    Potassium, K        MG   139.000\n15  Grapefruit                      Sodium, Na        MG     0.000\n16  Grapefruit                        Zinc, Zn        MG     0.070\n17  Grapefruit                      Copper, Cu        MG     0.047\n18  Grapefruit                    Selenium, Se        UG     0.300\n19  Grapefruit                         Retinol        UG     0.000\n20  Grapefruit                  Vitamin A, RAE        UG    46.000\n21  Grapefruit                  Carotene, beta        UG   552.000\n22  Grapefruit                 Carotene, alpha        UG     4.000\n23  Grapefruit    Vitamin E (alpha-tocopherol)        MG     0.130\n24  Grapefruit             Vitamin D (D2 + D3)        UG     0.000\n25  Grapefruit             Cryptoxanthin, beta        UG     6.000\n26  Grapefruit                        Lycopene        UG  1135.000\n27  Grapefruit             Lutein + zeaxanthin        UG     6.000\n28  Grapefruit  Vitamin C, total ascorbic acid        MG    34.400\n29  Grapefruit                         Thiamin        MG     0.036\n30  Grapefruit                      Riboflavin        MG     0.020\n31  Grapefruit                          Niacin        MG     0.250\n32  Grapefruit                     Vitamin B-6        MG     0.042\n33  Grapefruit                   Folate, total        UG    10.000\n34  Grapefruit                    Vitamin B-12        UG     0.000\n35  Grapefruit                  Choline, total        MG     7.700\n36  Grapefruit       Vitamin K (phylloquinone)        UG     0.000\n37  Grapefruit                      Folic acid        UG     0.000\n38  Grapefruit                    Folate, food        UG    10.000\n39  Grapefruit                     Folate, DFE        UG    10.000\n40  Grapefruit                Vitamin E, added        MG     0.000\n41  Grapefruit             Vitamin B-12, added        UG     0.000\n42  Grapefruit                     Cholesterol        MG     0.000\n43  Grapefruit    Fatty acids, total saturated         G     0.014\n44  Grapefruit                             4:0         G     0.000\n45  Grapefruit                             6:0         G     0.000\n46  Grapefruit                             8:0         G     0.000\n47  Grapefruit                            10:0         G     0.000\n48  Grapefruit                            12:0         G     0.000\n49  Grapefruit                            14:0         G     0.000\n50  Grapefruit                            16:0         G     0.012\n51  Grapefruit                            18:0         G     0.001\n52  Grapefruit                            18:1         G     0.012\n53  Grapefruit                            18:2         G     0.019\n54  Grapefruit                            18:3         G     0.005\n55  Grapefruit                            20:4         G     0.000\n56  Grapefruit                  22:6 n-3 (DHA)         G     0.000\n57  Grapefruit                            16:1         G     0.001\n58  Grapefruit                            18:4         G     0.000\n59  Grapefruit                            20:1         G     0.000",
      "text/html": "<div>\n<style scoped>\n    .dataframe tbody tr th:only-of-type {\n        vertical-align: middle;\n    }\n\n    .dataframe tbody tr th {\n        vertical-align: top;\n    }\n\n    .dataframe thead th {\n        text-align: right;\n    }\n</style>\n<table border=\"1\" class=\"dataframe\">\n  <thead>\n    <tr style=\"text-align: right;\">\n      <th></th>\n      <th>Description</th>\n      <th>Nutrient Name</th>\n      <th>Unit Name</th>\n      <th>Value</th>\n    </tr>\n  </thead>\n  <tbody>\n    <tr>\n      <th>0</th>\n      <td>Grapefruit</td>\n      <td>Protein</td>\n      <td>G</td>\n      <td>0.630</td>\n    </tr>\n    <tr>\n      <th>1</th>\n      <td>Grapefruit</td>\n      <td>Total lipid (fat)</td>\n      <td>G</td>\n      <td>0.100</td>\n    </tr>\n    <tr>\n      <th>2</th>\n      <td>Grapefruit</td>\n      <td>Carbohydrate, by difference</td>\n      <td>G</td>\n      <td>8.080</td>\n    </tr>\n    <tr>\n      <th>3</th>\n      <td>Grapefruit</td>\n      <td>Energy</td>\n      <td>KCAL</td>\n      <td>32.000</td>\n    </tr>\n    <tr>\n      <th>4</th>\n      <td>Grapefruit</td>\n      <td>Alcohol, ethyl</td>\n      <td>G</td>\n      <td>0.000</td>\n    </tr>\n    <tr>\n      <th>5</th>\n      <td>Grapefruit</td>\n      <td>Water</td>\n      <td>G</td>\n      <td>90.890</td>\n    </tr>\n    <tr>\n      <th>6</th>\n      <td>Grapefruit</td>\n      <td>Caffeine</td>\n      <td>MG</td>\n      <td>0.000</td>\n    </tr>\n    <tr>\n      <th>7</th>\n      <td>Grapefruit</td>\n      <td>Theobromine</td>\n      <td>MG</td>\n      <td>0.000</td>\n    </tr>\n    <tr>\n      <th>8</th>\n      <td>Grapefruit</td>\n      <td>Sugars, total including NLEA</td>\n      <td>G</td>\n      <td>6.980</td>\n    </tr>\n    <tr>\n      <th>9</th>\n      <td>Grapefruit</td>\n      <td>Fiber, total dietary</td>\n      <td>G</td>\n      <td>1.100</td>\n    </tr>\n    <tr>\n      <th>10</th>\n      <td>Grapefruit</td>\n      <td>Calcium, Ca</td>\n      <td>MG</td>\n      <td>12.000</td>\n    </tr>\n    <tr>\n      <th>11</th>\n      <td>Grapefruit</td>\n      <td>Iron, Fe</td>\n      <td>MG</td>\n      <td>0.090</td>\n    </tr>\n    <tr>\n      <th>12</th>\n      <td>Grapefruit</td>\n      <td>Magnesium, Mg</td>\n      <td>MG</td>\n      <td>8.000</td>\n    </tr>\n    <tr>\n      <th>13</th>\n      <td>Grapefruit</td>\n      <td>Phosphorus, P</td>\n      <td>MG</td>\n      <td>8.000</td>\n    </tr>\n    <tr>\n      <th>14</th>\n      <td>Grapefruit</td>\n      <td>Potassium, K</td>\n      <td>MG</td>\n      <td>139.000</td>\n    </tr>\n    <tr>\n      <th>15</th>\n      <td>Grapefruit</td>\n      <td>Sodium, Na</td>\n      <td>MG</td>\n      <td>0.000</td>\n    </tr>\n    <tr>\n      <th>16</th>\n      <td>Grapefruit</td>\n      <td>Zinc, Zn</td>\n      <td>MG</td>\n      <td>0.070</td>\n    </tr>\n    <tr>\n      <th>17</th>\n      <td>Grapefruit</td>\n      <td>Copper, Cu</td>\n      <td>MG</td>\n      <td>0.047</td>\n    </tr>\n    <tr>\n      <th>18</th>\n      <td>Grapefruit</td>\n      <td>Selenium, Se</td>\n      <td>UG</td>\n      <td>0.300</td>\n    </tr>\n    <tr>\n      <th>19</th>\n      <td>Grapefruit</td>\n      <td>Retinol</td>\n      <td>UG</td>\n      <td>0.000</td>\n    </tr>\n    <tr>\n      <th>20</th>\n      <td>Grapefruit</td>\n      <td>Vitamin A, RAE</td>\n      <td>UG</td>\n      <td>46.000</td>\n    </tr>\n    <tr>\n      <th>21</th>\n      <td>Grapefruit</td>\n      <td>Carotene, beta</td>\n      <td>UG</td>\n      <td>552.000</td>\n    </tr>\n    <tr>\n      <th>22</th>\n      <td>Grapefruit</td>\n      <td>Carotene, alpha</td>\n      <td>UG</td>\n      <td>4.000</td>\n    </tr>\n    <tr>\n      <th>23</th>\n      <td>Grapefruit</td>\n      <td>Vitamin E (alpha-tocopherol)</td>\n      <td>MG</td>\n      <td>0.130</td>\n    </tr>\n    <tr>\n      <th>24</th>\n      <td>Grapefruit</td>\n      <td>Vitamin D (D2 + D3)</td>\n      <td>UG</td>\n      <td>0.000</td>\n    </tr>\n    <tr>\n      <th>25</th>\n      <td>Grapefruit</td>\n      <td>Cryptoxanthin, beta</td>\n      <td>UG</td>\n      <td>6.000</td>\n    </tr>\n    <tr>\n      <th>26</th>\n      <td>Grapefruit</td>\n      <td>Lycopene</td>\n      <td>UG</td>\n      <td>1135.000</td>\n    </tr>\n    <tr>\n      <th>27</th>\n      <td>Grapefruit</td>\n      <td>Lutein + zeaxanthin</td>\n      <td>UG</td>\n      <td>6.000</td>\n    </tr>\n    <tr>\n      <th>28</th>\n      <td>Grapefruit</td>\n      <td>Vitamin C, total ascorbic acid</td>\n      <td>MG</td>\n      <td>34.400</td>\n    </tr>\n    <tr>\n      <th>29</th>\n      <td>Grapefruit</td>\n      <td>Thiamin</td>\n      <td>MG</td>\n      <td>0.036</td>\n    </tr>\n    <tr>\n      <th>30</th>\n      <td>Grapefruit</td>\n      <td>Riboflavin</td>\n      <td>MG</td>\n      <td>0.020</td>\n    </tr>\n    <tr>\n      <th>31</th>\n      <td>Grapefruit</td>\n      <td>Niacin</td>\n      <td>MG</td>\n      <td>0.250</td>\n    </tr>\n    <tr>\n      <th>32</th>\n      <td>Grapefruit</td>\n      <td>Vitamin B-6</td>\n      <td>MG</td>\n      <td>0.042</td>\n    </tr>\n    <tr>\n      <th>33</th>\n      <td>Grapefruit</td>\n      <td>Folate, total</td>\n      <td>UG</td>\n      <td>10.000</td>\n    </tr>\n    <tr>\n      <th>34</th>\n      <td>Grapefruit</td>\n      <td>Vitamin B-12</td>\n      <td>UG</td>\n      <td>0.000</td>\n    </tr>\n    <tr>\n      <th>35</th>\n      <td>Grapefruit</td>\n      <td>Choline, total</td>\n      <td>MG</td>\n      <td>7.700</td>\n    </tr>\n    <tr>\n      <th>36</th>\n      <td>Grapefruit</td>\n      <td>Vitamin K (phylloquinone)</td>\n      <td>UG</td>\n      <td>0.000</td>\n    </tr>\n    <tr>\n      <th>37</th>\n      <td>Grapefruit</td>\n      <td>Folic acid</td>\n      <td>UG</td>\n      <td>0.000</td>\n    </tr>\n    <tr>\n      <th>38</th>\n      <td>Grapefruit</td>\n      <td>Folate, food</td>\n      <td>UG</td>\n      <td>10.000</td>\n    </tr>\n    <tr>\n      <th>39</th>\n      <td>Grapefruit</td>\n      <td>Folate, DFE</td>\n      <td>UG</td>\n      <td>10.000</td>\n    </tr>\n    <tr>\n      <th>40</th>\n      <td>Grapefruit</td>\n      <td>Vitamin E, added</td>\n      <td>MG</td>\n      <td>0.000</td>\n    </tr>\n    <tr>\n      <th>41</th>\n      <td>Grapefruit</td>\n      <td>Vitamin B-12, added</td>\n      <td>UG</td>\n      <td>0.000</td>\n    </tr>\n    <tr>\n      <th>42</th>\n      <td>Grapefruit</td>\n      <td>Cholesterol</td>\n      <td>MG</td>\n      <td>0.000</td>\n    </tr>\n    <tr>\n      <th>43</th>\n      <td>Grapefruit</td>\n      <td>Fatty acids, total saturated</td>\n      <td>G</td>\n      <td>0.014</td>\n    </tr>\n    <tr>\n      <th>44</th>\n      <td>Grapefruit</td>\n      <td>4:0</td>\n      <td>G</td>\n      <td>0.000</td>\n    </tr>\n    <tr>\n      <th>45</th>\n      <td>Grapefruit</td>\n      <td>6:0</td>\n      <td>G</td>\n      <td>0.000</td>\n    </tr>\n    <tr>\n      <th>46</th>\n      <td>Grapefruit</td>\n      <td>8:0</td>\n      <td>G</td>\n      <td>0.000</td>\n    </tr>\n    <tr>\n      <th>47</th>\n      <td>Grapefruit</td>\n      <td>10:0</td>\n      <td>G</td>\n      <td>0.000</td>\n    </tr>\n    <tr>\n      <th>48</th>\n      <td>Grapefruit</td>\n      <td>12:0</td>\n      <td>G</td>\n      <td>0.000</td>\n    </tr>\n    <tr>\n      <th>49</th>\n      <td>Grapefruit</td>\n      <td>14:0</td>\n      <td>G</td>\n      <td>0.000</td>\n    </tr>\n    <tr>\n      <th>50</th>\n      <td>Grapefruit</td>\n      <td>16:0</td>\n      <td>G</td>\n      <td>0.012</td>\n    </tr>\n    <tr>\n      <th>51</th>\n      <td>Grapefruit</td>\n      <td>18:0</td>\n      <td>G</td>\n      <td>0.001</td>\n    </tr>\n    <tr>\n      <th>52</th>\n      <td>Grapefruit</td>\n      <td>18:1</td>\n      <td>G</td>\n      <td>0.012</td>\n    </tr>\n    <tr>\n      <th>53</th>\n      <td>Grapefruit</td>\n      <td>18:2</td>\n      <td>G</td>\n      <td>0.019</td>\n    </tr>\n    <tr>\n      <th>54</th>\n      <td>Grapefruit</td>\n      <td>18:3</td>\n      <td>G</td>\n      <td>0.005</td>\n    </tr>\n    <tr>\n      <th>55</th>\n      <td>Grapefruit</td>\n      <td>20:4</td>\n      <td>G</td>\n      <td>0.000</td>\n    </tr>\n    <tr>\n      <th>56</th>\n      <td>Grapefruit</td>\n      <td>22:6 n-3 (DHA)</td>\n      <td>G</td>\n      <td>0.000</td>\n    </tr>\n    <tr>\n      <th>57</th>\n      <td>Grapefruit</td>\n      <td>16:1</td>\n      <td>G</td>\n      <td>0.001</td>\n    </tr>\n    <tr>\n      <th>58</th>\n      <td>Grapefruit</td>\n      <td>18:4</td>\n      <td>G</td>\n      <td>0.000</td>\n    </tr>\n    <tr>\n      <th>59</th>\n      <td>Grapefruit</td>\n      <td>20:1</td>\n      <td>G</td>\n      <td>0.000</td>\n    </tr>\n  </tbody>\n</table>\n</div>"
     },
     "metadata": {},
     "execution_count": 27
    }
   ],
   "source": [
    "new_df = df[[\"Description\",\"Nutrient Name\",\"Unit Name\",\"Value\"]]\n",
    "new_df.head(60)"
   ]
  },
  {
   "cell_type": "code",
   "execution_count": 71,
   "metadata": {},
   "outputs": [
    {
     "output_type": "execute_result",
     "data": {
      "text/plain": "     Description                   Nutrient Name Unit Name   Value\n0     Grapefruit                         Protein         G   0.630\n1     Grapefruit               Total lipid (fat)         G   0.100\n2     Grapefruit     Carbohydrate, by difference         G   8.080\n3     Grapefruit                          Energy      KCAL  32.000\n5     Grapefruit                           Water         G  90.890\n...          ...                             ...       ...     ...\n3778    Fig, raw                  Vitamin A, RAE        UG   7.000\n3781    Fig, raw    Vitamin E (alpha-tocopherol)        MG   0.110\n3786    Fig, raw  Vitamin C, total ascorbic acid        MG   2.000\n3790    Fig, raw                     Vitamin B-6        MG   0.113\n3801    Fig, raw    Fatty acids, total saturated         G   0.060\n\n[1026 rows x 4 columns]",
      "text/html": "<div>\n<style scoped>\n    .dataframe tbody tr th:only-of-type {\n        vertical-align: middle;\n    }\n\n    .dataframe tbody tr th {\n        vertical-align: top;\n    }\n\n    .dataframe thead th {\n        text-align: right;\n    }\n</style>\n<table border=\"1\" class=\"dataframe\">\n  <thead>\n    <tr style=\"text-align: right;\">\n      <th></th>\n      <th>Description</th>\n      <th>Nutrient Name</th>\n      <th>Unit Name</th>\n      <th>Value</th>\n    </tr>\n  </thead>\n  <tbody>\n    <tr>\n      <th>0</th>\n      <td>Grapefruit</td>\n      <td>Protein</td>\n      <td>G</td>\n      <td>0.630</td>\n    </tr>\n    <tr>\n      <th>1</th>\n      <td>Grapefruit</td>\n      <td>Total lipid (fat)</td>\n      <td>G</td>\n      <td>0.100</td>\n    </tr>\n    <tr>\n      <th>2</th>\n      <td>Grapefruit</td>\n      <td>Carbohydrate, by difference</td>\n      <td>G</td>\n      <td>8.080</td>\n    </tr>\n    <tr>\n      <th>3</th>\n      <td>Grapefruit</td>\n      <td>Energy</td>\n      <td>KCAL</td>\n      <td>32.000</td>\n    </tr>\n    <tr>\n      <th>5</th>\n      <td>Grapefruit</td>\n      <td>Water</td>\n      <td>G</td>\n      <td>90.890</td>\n    </tr>\n    <tr>\n      <th>...</th>\n      <td>...</td>\n      <td>...</td>\n      <td>...</td>\n      <td>...</td>\n    </tr>\n    <tr>\n      <th>3778</th>\n      <td>Fig, raw</td>\n      <td>Vitamin A, RAE</td>\n      <td>UG</td>\n      <td>7.000</td>\n    </tr>\n    <tr>\n      <th>3781</th>\n      <td>Fig, raw</td>\n      <td>Vitamin E (alpha-tocopherol)</td>\n      <td>MG</td>\n      <td>0.110</td>\n    </tr>\n    <tr>\n      <th>3786</th>\n      <td>Fig, raw</td>\n      <td>Vitamin C, total ascorbic acid</td>\n      <td>MG</td>\n      <td>2.000</td>\n    </tr>\n    <tr>\n      <th>3790</th>\n      <td>Fig, raw</td>\n      <td>Vitamin B-6</td>\n      <td>MG</td>\n      <td>0.113</td>\n    </tr>\n    <tr>\n      <th>3801</th>\n      <td>Fig, raw</td>\n      <td>Fatty acids, total saturated</td>\n      <td>G</td>\n      <td>0.060</td>\n    </tr>\n  </tbody>\n</table>\n<p>1026 rows × 4 columns</p>\n</div>"
     },
     "metadata": {},
     "execution_count": 71
    }
   ],
   "source": [
    "new_fruits_df = new_df.loc[(new_df[\"Nutrient Name\"] == \"Protein\") |\n",
    "                           (new_df[\"Nutrient Name\"] == \"Total lipid (fat)\")  |\n",
    "                           (new_df[\"Nutrient Name\"] == \"Carbohydrate, by difference\") |\n",
    "                           (new_df[\"Nutrient Name\"] == \"Water\") |\n",
    "                           (new_df[\"Nutrient Name\"] == \"Fiber, total dietary\") |\n",
    "                           (new_df[\"Nutrient Name\"] == \"Calcium, Ca\") |\n",
    "                           (new_df[\"Nutrient Name\"] == \"Iron, Fe\") |\n",
    "                           (new_df[\"Nutrient Name\"] == \"Magnesium, Mg\") |\n",
    "                           (new_df[\"Nutrient Name\"] == \"Phosphorus, P\") |\n",
    "                           (new_df[\"Nutrient Name\"] == \"Potassium, K\") |\n",
    "                           (new_df[\"Nutrient Name\"] == \"Energy\") |\n",
    "                           (new_df[\"Nutrient Name\"] == \"Sodium, Na\") |\n",
    "                           (new_df[\"Nutrient Name\"] == \"Zinc, Zn\") |\n",
    "                           (new_df[\"Nutrient Name\"] == \"Copper, Cu\") |\n",
    "                           (new_df[\"Nutrient Name\"] == \"Vitamin A, RAE\") |\n",
    "                           (new_df[\"Nutrient Name\"] == \"Vitamin B-6\") |\n",
    "                           (new_df[\"Nutrient Name\"] == \"Sugars, total including NLEA\") |\n",
    "                           (new_df[\"Nutrient Name\"] == \"Vitamin E (alpha-tocopherol)\") |\n",
    "                           (new_df[\"Nutrient Name\"] == \"Vitamin C, total ascorbic acid\") |\n",
    "                           (new_df[\"Nutrient Name\"] == \"Fatty acids, total saturated\")]\n",
    "new_fruits_df"
   ]
  },
  {
   "cell_type": "code",
   "execution_count": 72,
   "metadata": {},
   "outputs": [
    {
     "output_type": "execute_result",
     "data": {
      "text/plain": "Nutrient Name Description  Calcium, Ca  Carbohydrate, by difference  \\\n0                 Abiyuch          8.0                        17.60   \n1                   Apple          6.0                        13.81   \n2                 Apricot         13.0                        11.12   \n3                Apricots         13.0                        11.12   \n4               Arrowhead         10.0                        20.23   \n\nNutrient Name  Copper, Cu  Energy  Fatty acids, total saturated  \\\n0                   0.057   359.0                         0.014   \n1                   0.027    52.0                         0.028   \n2                   0.078    48.0                         0.027   \n3                   0.078   249.0                         0.027   \n4                   0.171   513.0                           NaN   \n\nNutrient Name  Fiber, total dietary  Iron, Fe  Magnesium, Mg  Phosphorus, P  \\\n0                               5.3      1.61           24.0           47.0   \n1                               2.4      0.12            5.0           11.0   \n2                               2.0      0.39           10.0           23.0   \n3                               2.0      0.39           10.0           23.0   \n4                               NaN      2.57           51.0          174.0   \n\nNutrient Name  ...  Protein  Sodium, Na  Sugars, total including NLEA  \\\n0              ...     1.50        20.0                          8.55   \n1              ...     0.26         1.0                         10.39   \n2              ...     1.40         1.0                          9.24   \n3              ...     1.40         1.0                          9.24   \n4              ...     5.33        22.0                           NaN   \n\nNutrient Name  Total lipid (fat)  Vitamin A, RAE  Vitamin B-6  \\\n0                           0.10             5.0          NaN   \n1                           0.17             3.0        0.041   \n2                           0.39            96.0        0.054   \n3                           0.39            96.0        0.054   \n4                           0.29             0.0        0.260   \n\nNutrient Name  Vitamin C, total ascorbic acid  Vitamin E (alpha-tocopherol)  \\\n0                                        54.1                           NaN   \n1                                         4.6                          0.18   \n2                                        10.0                          0.89   \n3                                        10.0                          0.89   \n4                                         1.1                           NaN   \n\nNutrient Name  Water  Zinc, Zn  \n0              79.90      0.31  \n1              85.56      0.04  \n2              86.35      0.20  \n3              86.35      0.20  \n4              72.48      0.28  \n\n[5 rows x 21 columns]",
      "text/html": "<div>\n<style scoped>\n    .dataframe tbody tr th:only-of-type {\n        vertical-align: middle;\n    }\n\n    .dataframe tbody tr th {\n        vertical-align: top;\n    }\n\n    .dataframe thead th {\n        text-align: right;\n    }\n</style>\n<table border=\"1\" class=\"dataframe\">\n  <thead>\n    <tr style=\"text-align: right;\">\n      <th>Nutrient Name</th>\n      <th>Description</th>\n      <th>Calcium, Ca</th>\n      <th>Carbohydrate, by difference</th>\n      <th>Copper, Cu</th>\n      <th>Energy</th>\n      <th>Fatty acids, total saturated</th>\n      <th>Fiber, total dietary</th>\n      <th>Iron, Fe</th>\n      <th>Magnesium, Mg</th>\n      <th>Phosphorus, P</th>\n      <th>...</th>\n      <th>Protein</th>\n      <th>Sodium, Na</th>\n      <th>Sugars, total including NLEA</th>\n      <th>Total lipid (fat)</th>\n      <th>Vitamin A, RAE</th>\n      <th>Vitamin B-6</th>\n      <th>Vitamin C, total ascorbic acid</th>\n      <th>Vitamin E (alpha-tocopherol)</th>\n      <th>Water</th>\n      <th>Zinc, Zn</th>\n    </tr>\n  </thead>\n  <tbody>\n    <tr>\n      <th>0</th>\n      <td>Abiyuch</td>\n      <td>8.0</td>\n      <td>17.60</td>\n      <td>0.057</td>\n      <td>359.0</td>\n      <td>0.014</td>\n      <td>5.3</td>\n      <td>1.61</td>\n      <td>24.0</td>\n      <td>47.0</td>\n      <td>...</td>\n      <td>1.50</td>\n      <td>20.0</td>\n      <td>8.55</td>\n      <td>0.10</td>\n      <td>5.0</td>\n      <td>NaN</td>\n      <td>54.1</td>\n      <td>NaN</td>\n      <td>79.90</td>\n      <td>0.31</td>\n    </tr>\n    <tr>\n      <th>1</th>\n      <td>Apple</td>\n      <td>6.0</td>\n      <td>13.81</td>\n      <td>0.027</td>\n      <td>52.0</td>\n      <td>0.028</td>\n      <td>2.4</td>\n      <td>0.12</td>\n      <td>5.0</td>\n      <td>11.0</td>\n      <td>...</td>\n      <td>0.26</td>\n      <td>1.0</td>\n      <td>10.39</td>\n      <td>0.17</td>\n      <td>3.0</td>\n      <td>0.041</td>\n      <td>4.6</td>\n      <td>0.18</td>\n      <td>85.56</td>\n      <td>0.04</td>\n    </tr>\n    <tr>\n      <th>2</th>\n      <td>Apricot</td>\n      <td>13.0</td>\n      <td>11.12</td>\n      <td>0.078</td>\n      <td>48.0</td>\n      <td>0.027</td>\n      <td>2.0</td>\n      <td>0.39</td>\n      <td>10.0</td>\n      <td>23.0</td>\n      <td>...</td>\n      <td>1.40</td>\n      <td>1.0</td>\n      <td>9.24</td>\n      <td>0.39</td>\n      <td>96.0</td>\n      <td>0.054</td>\n      <td>10.0</td>\n      <td>0.89</td>\n      <td>86.35</td>\n      <td>0.20</td>\n    </tr>\n    <tr>\n      <th>3</th>\n      <td>Apricots</td>\n      <td>13.0</td>\n      <td>11.12</td>\n      <td>0.078</td>\n      <td>249.0</td>\n      <td>0.027</td>\n      <td>2.0</td>\n      <td>0.39</td>\n      <td>10.0</td>\n      <td>23.0</td>\n      <td>...</td>\n      <td>1.40</td>\n      <td>1.0</td>\n      <td>9.24</td>\n      <td>0.39</td>\n      <td>96.0</td>\n      <td>0.054</td>\n      <td>10.0</td>\n      <td>0.89</td>\n      <td>86.35</td>\n      <td>0.20</td>\n    </tr>\n    <tr>\n      <th>4</th>\n      <td>Arrowhead</td>\n      <td>10.0</td>\n      <td>20.23</td>\n      <td>0.171</td>\n      <td>513.0</td>\n      <td>NaN</td>\n      <td>NaN</td>\n      <td>2.57</td>\n      <td>51.0</td>\n      <td>174.0</td>\n      <td>...</td>\n      <td>5.33</td>\n      <td>22.0</td>\n      <td>NaN</td>\n      <td>0.29</td>\n      <td>0.0</td>\n      <td>0.260</td>\n      <td>1.1</td>\n      <td>NaN</td>\n      <td>72.48</td>\n      <td>0.28</td>\n    </tr>\n  </tbody>\n</table>\n<p>5 rows × 21 columns</p>\n</div>"
     },
     "metadata": {},
     "execution_count": 72
    }
   ],
   "source": [
    "filtered_df = new_fruits_df.groupby([\"Description\",\"Nutrient Name\"]).sum().squeeze().unstack().reset_index()\n",
    "filtered_df.head()"
   ]
  },
  {
   "cell_type": "code",
   "execution_count": 73,
   "metadata": {},
   "outputs": [
    {
     "output_type": "execute_result",
     "data": {
      "text/plain": "Nutrient Name Description  Calcium, Ca  Carbohydrate, by difference  \\\n0                 Abiyuch          8.0                        17.60   \n1                   Apple          6.0                        13.81   \n2                 Apricot         13.0                        11.12   \n3                Apricots         13.0                        11.12   \n4               Arrowhead         10.0                        20.23   \n\nNutrient Name  Copper, Cu  Energy  Fatty acids, total saturated  \\\n0                   0.057   359.0                         0.014   \n1                   0.027    52.0                         0.028   \n2                   0.078    48.0                         0.027   \n3                   0.078   249.0                         0.027   \n4                   0.171   513.0                         0.000   \n\nNutrient Name  Fiber, total dietary  Iron, Fe  Magnesium, Mg  Phosphorus, P  \\\n0                               5.3      1.61           24.0           47.0   \n1                               2.4      0.12            5.0           11.0   \n2                               2.0      0.39           10.0           23.0   \n3                               2.0      0.39           10.0           23.0   \n4                               0.0      2.57           51.0          174.0   \n\nNutrient Name  ...  Protein  Sodium, Na  Sugars, total including NLEA  \\\n0              ...     1.50        20.0                          8.55   \n1              ...     0.26         1.0                         10.39   \n2              ...     1.40         1.0                          9.24   \n3              ...     1.40         1.0                          9.24   \n4              ...     5.33        22.0                          0.00   \n\nNutrient Name  Total lipid (fat)  Vitamin A, RAE  Vitamin B-6  \\\n0                           0.10             5.0        0.000   \n1                           0.17             3.0        0.041   \n2                           0.39            96.0        0.054   \n3                           0.39            96.0        0.054   \n4                           0.29             0.0        0.260   \n\nNutrient Name  Vitamin C, total ascorbic acid  Vitamin E (alpha-tocopherol)  \\\n0                                        54.1                          0.00   \n1                                         4.6                          0.18   \n2                                        10.0                          0.89   \n3                                        10.0                          0.89   \n4                                         1.1                          0.00   \n\nNutrient Name  Water  Zinc, Zn  \n0              79.90      0.31  \n1              85.56      0.04  \n2              86.35      0.20  \n3              86.35      0.20  \n4              72.48      0.28  \n\n[5 rows x 21 columns]",
      "text/html": "<div>\n<style scoped>\n    .dataframe tbody tr th:only-of-type {\n        vertical-align: middle;\n    }\n\n    .dataframe tbody tr th {\n        vertical-align: top;\n    }\n\n    .dataframe thead th {\n        text-align: right;\n    }\n</style>\n<table border=\"1\" class=\"dataframe\">\n  <thead>\n    <tr style=\"text-align: right;\">\n      <th>Nutrient Name</th>\n      <th>Description</th>\n      <th>Calcium, Ca</th>\n      <th>Carbohydrate, by difference</th>\n      <th>Copper, Cu</th>\n      <th>Energy</th>\n      <th>Fatty acids, total saturated</th>\n      <th>Fiber, total dietary</th>\n      <th>Iron, Fe</th>\n      <th>Magnesium, Mg</th>\n      <th>Phosphorus, P</th>\n      <th>...</th>\n      <th>Protein</th>\n      <th>Sodium, Na</th>\n      <th>Sugars, total including NLEA</th>\n      <th>Total lipid (fat)</th>\n      <th>Vitamin A, RAE</th>\n      <th>Vitamin B-6</th>\n      <th>Vitamin C, total ascorbic acid</th>\n      <th>Vitamin E (alpha-tocopherol)</th>\n      <th>Water</th>\n      <th>Zinc, Zn</th>\n    </tr>\n  </thead>\n  <tbody>\n    <tr>\n      <th>0</th>\n      <td>Abiyuch</td>\n      <td>8.0</td>\n      <td>17.60</td>\n      <td>0.057</td>\n      <td>359.0</td>\n      <td>0.014</td>\n      <td>5.3</td>\n      <td>1.61</td>\n      <td>24.0</td>\n      <td>47.0</td>\n      <td>...</td>\n      <td>1.50</td>\n      <td>20.0</td>\n      <td>8.55</td>\n      <td>0.10</td>\n      <td>5.0</td>\n      <td>0.000</td>\n      <td>54.1</td>\n      <td>0.00</td>\n      <td>79.90</td>\n      <td>0.31</td>\n    </tr>\n    <tr>\n      <th>1</th>\n      <td>Apple</td>\n      <td>6.0</td>\n      <td>13.81</td>\n      <td>0.027</td>\n      <td>52.0</td>\n      <td>0.028</td>\n      <td>2.4</td>\n      <td>0.12</td>\n      <td>5.0</td>\n      <td>11.0</td>\n      <td>...</td>\n      <td>0.26</td>\n      <td>1.0</td>\n      <td>10.39</td>\n      <td>0.17</td>\n      <td>3.0</td>\n      <td>0.041</td>\n      <td>4.6</td>\n      <td>0.18</td>\n      <td>85.56</td>\n      <td>0.04</td>\n    </tr>\n    <tr>\n      <th>2</th>\n      <td>Apricot</td>\n      <td>13.0</td>\n      <td>11.12</td>\n      <td>0.078</td>\n      <td>48.0</td>\n      <td>0.027</td>\n      <td>2.0</td>\n      <td>0.39</td>\n      <td>10.0</td>\n      <td>23.0</td>\n      <td>...</td>\n      <td>1.40</td>\n      <td>1.0</td>\n      <td>9.24</td>\n      <td>0.39</td>\n      <td>96.0</td>\n      <td>0.054</td>\n      <td>10.0</td>\n      <td>0.89</td>\n      <td>86.35</td>\n      <td>0.20</td>\n    </tr>\n    <tr>\n      <th>3</th>\n      <td>Apricots</td>\n      <td>13.0</td>\n      <td>11.12</td>\n      <td>0.078</td>\n      <td>249.0</td>\n      <td>0.027</td>\n      <td>2.0</td>\n      <td>0.39</td>\n      <td>10.0</td>\n      <td>23.0</td>\n      <td>...</td>\n      <td>1.40</td>\n      <td>1.0</td>\n      <td>9.24</td>\n      <td>0.39</td>\n      <td>96.0</td>\n      <td>0.054</td>\n      <td>10.0</td>\n      <td>0.89</td>\n      <td>86.35</td>\n      <td>0.20</td>\n    </tr>\n    <tr>\n      <th>4</th>\n      <td>Arrowhead</td>\n      <td>10.0</td>\n      <td>20.23</td>\n      <td>0.171</td>\n      <td>513.0</td>\n      <td>0.000</td>\n      <td>0.0</td>\n      <td>2.57</td>\n      <td>51.0</td>\n      <td>174.0</td>\n      <td>...</td>\n      <td>5.33</td>\n      <td>22.0</td>\n      <td>0.00</td>\n      <td>0.29</td>\n      <td>0.0</td>\n      <td>0.260</td>\n      <td>1.1</td>\n      <td>0.00</td>\n      <td>72.48</td>\n      <td>0.28</td>\n    </tr>\n  </tbody>\n</table>\n<p>5 rows × 21 columns</p>\n</div>"
     },
     "metadata": {},
     "execution_count": 73
    }
   ],
   "source": [
    "filtered_df = filtered_df.fillna(0)\n",
    "filtered_df.head()"
   ]
  },
  {
   "cell_type": "code",
   "execution_count": 74,
   "metadata": {},
   "outputs": [
    {
     "output_type": "execute_result",
     "data": {
      "text/plain": "Nutrient Name Food_description  Calcium (mg)  Carbohydrate (g)  Copper (mg)  \\\n0                      Abiyuch           8.0              17.6        0.057   \n\nNutrient Name  Energy (kcal)  Saturated_fat (g)  Fiber total dietary (g)  \\\n0                      359.0              0.014                      5.3   \n\nNutrient Name  Iron (mg)  Magnesium (mg)  Phosphorus (mg)  ...  Protein (g)  \\\n0                   1.61            24.0             47.0  ...          1.5   \n\nNutrient Name  Sodium (mg)  Sugar (g)  Total Fat (g)  Vitamin A (ug)  \\\n0                     20.0       8.55            0.1             5.0   \n\nNutrient Name  Vitamin B-6 (mg)  Vitamin C (mg)  Vitamin E (mg)  Water (g)  \\\n0                           0.0            54.1             0.0       79.9   \n\nNutrient Name  Zinc (mg)  \n0                   0.31  \n\n[1 rows x 21 columns]",
      "text/html": "<div>\n<style scoped>\n    .dataframe tbody tr th:only-of-type {\n        vertical-align: middle;\n    }\n\n    .dataframe tbody tr th {\n        vertical-align: top;\n    }\n\n    .dataframe thead th {\n        text-align: right;\n    }\n</style>\n<table border=\"1\" class=\"dataframe\">\n  <thead>\n    <tr style=\"text-align: right;\">\n      <th>Nutrient Name</th>\n      <th>Food_description</th>\n      <th>Calcium (mg)</th>\n      <th>Carbohydrate (g)</th>\n      <th>Copper (mg)</th>\n      <th>Energy (kcal)</th>\n      <th>Saturated_fat (g)</th>\n      <th>Fiber total dietary (g)</th>\n      <th>Iron (mg)</th>\n      <th>Magnesium (mg)</th>\n      <th>Phosphorus (mg)</th>\n      <th>...</th>\n      <th>Protein (g)</th>\n      <th>Sodium (mg)</th>\n      <th>Sugar (g)</th>\n      <th>Total Fat (g)</th>\n      <th>Vitamin A (ug)</th>\n      <th>Vitamin B-6 (mg)</th>\n      <th>Vitamin C (mg)</th>\n      <th>Vitamin E (mg)</th>\n      <th>Water (g)</th>\n      <th>Zinc (mg)</th>\n    </tr>\n  </thead>\n  <tbody>\n    <tr>\n      <th>0</th>\n      <td>Abiyuch</td>\n      <td>8.0</td>\n      <td>17.6</td>\n      <td>0.057</td>\n      <td>359.0</td>\n      <td>0.014</td>\n      <td>5.3</td>\n      <td>1.61</td>\n      <td>24.0</td>\n      <td>47.0</td>\n      <td>...</td>\n      <td>1.5</td>\n      <td>20.0</td>\n      <td>8.55</td>\n      <td>0.1</td>\n      <td>5.0</td>\n      <td>0.0</td>\n      <td>54.1</td>\n      <td>0.0</td>\n      <td>79.9</td>\n      <td>0.31</td>\n    </tr>\n  </tbody>\n</table>\n<p>1 rows × 21 columns</p>\n</div>"
     },
     "metadata": {},
     "execution_count": 74
    }
   ],
   "source": [
    "fruits_df = filtered_df.rename(columns={\"Calcium, Ca\": \"Calcium (mg)\",\n",
    "                                      \"Carbohydrate, by difference\": \"Carbohydrate (g)\",\n",
    "                                      \"Copper, Cu\": \"Copper (mg)\",\n",
    "                                      \"Energy\": \"Energy (kcal)\",\n",
    "                                      \"Fatty acids, total saturated\": \"Saturated_fat (g)\",\n",
    "                                      \"Fiber, total dietary\": \"Fiber total dietary (g)\",\n",
    "                                      \"Iron, Fe\": \"Iron (mg)\",\n",
    "                                      \"Magnesium, Mg\": \"Magnesium (mg)\",\n",
    "                                      \"Phosphorus, P\": \"Phosphorus (mg)\",\n",
    "                                      \"Potassium, K\": \"Potassium (mg)\",\n",
    "                                      \"Protein\": \"Protein (g)\",\n",
    "                                      \"Sodium, Na\": \"Sodium (mg)\",\n",
    "                                      \"Total lipid (fat)\": \"Total Fat (g)\",\n",
    "                                      \"Vitamin C, total ascorbic acid\": \"Vitamin C (mg)\",\n",
    "                                      \"Vitamin E (alpha-tocopherol)\": \"Vitamin E (mg)\",\n",
    "                                      \"Zinc, Zn\": \"Zinc (mg)\",\n",
    "                                      \"Water\": \"Water (g)\",\n",
    "                                      \"Zinc, Zn\": \"Zinc (mg)\",\n",
    "                                      \"Vitamin A, RAE\": \"Vitamin A (ug)\",\n",
    "                                      \"Vitamin B-6\": \"Vitamin B-6 (mg)\",\n",
    "                                      \"Sugars, total including NLEA\": \"Sugar (g)\",\n",
    "                                      \"Description\": \"Food_description\"\n",
    "                                     })\n",
    "fruits_df.head(1)\n"
   ]
  },
  {
   "cell_type": "code",
   "execution_count": 78,
   "metadata": {},
   "outputs": [
    {
     "output_type": "execute_result",
     "data": {
      "text/plain": "Nutrient Name Food_description  Energy (kcal)  Water (g)  Sugar (g)  \\\n0                      Abiyuch          359.0      79.90       8.55   \n1                        Apple           52.0      85.56      10.39   \n2                      Apricot           48.0      86.35       9.24   \n3                     Apricots          249.0      86.35       9.24   \n4                    Arrowhead          513.0      72.48       0.00   \n\nNutrient Name  Vitamin C (mg)  Calcium (mg)  Carbohydrate (g)  Protein (g)  \\\n0                        54.1           8.0             17.60         1.50   \n1                         4.6           6.0             13.81         0.26   \n2                        10.0          13.0             11.12         1.40   \n3                        10.0          13.0             11.12         1.40   \n4                         1.1          10.0             20.23         5.33   \n\nNutrient Name  Sodium (mg)  Vitamin E (mg)  Copper (mg)  Iron (mg)  \\\n0                     20.0            0.00        0.057       1.61   \n1                      1.0            0.18        0.027       0.12   \n2                      1.0            0.89        0.078       0.39   \n3                      1.0            0.89        0.078       0.39   \n4                     22.0            0.00        0.171       2.57   \n\nNutrient Name  Magnesium (mg)  Phosphorus (mg)  Potassium (mg)  Zinc (mg)  \\\n0                        24.0             47.0           304.0       0.31   \n1                         5.0             11.0           107.0       0.04   \n2                        10.0             23.0           259.0       0.20   \n3                        10.0             23.0           259.0       0.20   \n4                        51.0            174.0           922.0       0.28   \n\nNutrient Name  Total Fat (g)  Saturated_fat (g)  Fiber total dietary (g)  \n0                       0.10              0.014                      5.3  \n1                       0.17              0.028                      2.4  \n2                       0.39              0.027                      2.0  \n3                       0.39              0.027                      2.0  \n4                       0.29              0.000                      0.0  ",
      "text/html": "<div>\n<style scoped>\n    .dataframe tbody tr th:only-of-type {\n        vertical-align: middle;\n    }\n\n    .dataframe tbody tr th {\n        vertical-align: top;\n    }\n\n    .dataframe thead th {\n        text-align: right;\n    }\n</style>\n<table border=\"1\" class=\"dataframe\">\n  <thead>\n    <tr style=\"text-align: right;\">\n      <th>Nutrient Name</th>\n      <th>Food_description</th>\n      <th>Energy (kcal)</th>\n      <th>Water (g)</th>\n      <th>Sugar (g)</th>\n      <th>Vitamin C (mg)</th>\n      <th>Calcium (mg)</th>\n      <th>Carbohydrate (g)</th>\n      <th>Protein (g)</th>\n      <th>Sodium (mg)</th>\n      <th>Vitamin E (mg)</th>\n      <th>Copper (mg)</th>\n      <th>Iron (mg)</th>\n      <th>Magnesium (mg)</th>\n      <th>Phosphorus (mg)</th>\n      <th>Potassium (mg)</th>\n      <th>Zinc (mg)</th>\n      <th>Total Fat (g)</th>\n      <th>Saturated_fat (g)</th>\n      <th>Fiber total dietary (g)</th>\n    </tr>\n  </thead>\n  <tbody>\n    <tr>\n      <th>0</th>\n      <td>Abiyuch</td>\n      <td>359.0</td>\n      <td>79.90</td>\n      <td>8.55</td>\n      <td>54.1</td>\n      <td>8.0</td>\n      <td>17.60</td>\n      <td>1.50</td>\n      <td>20.0</td>\n      <td>0.00</td>\n      <td>0.057</td>\n      <td>1.61</td>\n      <td>24.0</td>\n      <td>47.0</td>\n      <td>304.0</td>\n      <td>0.31</td>\n      <td>0.10</td>\n      <td>0.014</td>\n      <td>5.3</td>\n    </tr>\n    <tr>\n      <th>1</th>\n      <td>Apple</td>\n      <td>52.0</td>\n      <td>85.56</td>\n      <td>10.39</td>\n      <td>4.6</td>\n      <td>6.0</td>\n      <td>13.81</td>\n      <td>0.26</td>\n      <td>1.0</td>\n      <td>0.18</td>\n      <td>0.027</td>\n      <td>0.12</td>\n      <td>5.0</td>\n      <td>11.0</td>\n      <td>107.0</td>\n      <td>0.04</td>\n      <td>0.17</td>\n      <td>0.028</td>\n      <td>2.4</td>\n    </tr>\n    <tr>\n      <th>2</th>\n      <td>Apricot</td>\n      <td>48.0</td>\n      <td>86.35</td>\n      <td>9.24</td>\n      <td>10.0</td>\n      <td>13.0</td>\n      <td>11.12</td>\n      <td>1.40</td>\n      <td>1.0</td>\n      <td>0.89</td>\n      <td>0.078</td>\n      <td>0.39</td>\n      <td>10.0</td>\n      <td>23.0</td>\n      <td>259.0</td>\n      <td>0.20</td>\n      <td>0.39</td>\n      <td>0.027</td>\n      <td>2.0</td>\n    </tr>\n    <tr>\n      <th>3</th>\n      <td>Apricots</td>\n      <td>249.0</td>\n      <td>86.35</td>\n      <td>9.24</td>\n      <td>10.0</td>\n      <td>13.0</td>\n      <td>11.12</td>\n      <td>1.40</td>\n      <td>1.0</td>\n      <td>0.89</td>\n      <td>0.078</td>\n      <td>0.39</td>\n      <td>10.0</td>\n      <td>23.0</td>\n      <td>259.0</td>\n      <td>0.20</td>\n      <td>0.39</td>\n      <td>0.027</td>\n      <td>2.0</td>\n    </tr>\n    <tr>\n      <th>4</th>\n      <td>Arrowhead</td>\n      <td>513.0</td>\n      <td>72.48</td>\n      <td>0.00</td>\n      <td>1.1</td>\n      <td>10.0</td>\n      <td>20.23</td>\n      <td>5.33</td>\n      <td>22.0</td>\n      <td>0.00</td>\n      <td>0.171</td>\n      <td>2.57</td>\n      <td>51.0</td>\n      <td>174.0</td>\n      <td>922.0</td>\n      <td>0.28</td>\n      <td>0.29</td>\n      <td>0.000</td>\n      <td>0.0</td>\n    </tr>\n  </tbody>\n</table>\n</div>"
     },
     "metadata": {},
     "execution_count": 78
    }
   ],
   "source": [
    "fruits_veggies= fruits_df[['Food_description', 'Energy (kcal)', 'Water (g)', 'Sugar (g)', 'Vitamin C (mg)', 'Calcium (mg)', 'Carbohydrate (g)',\n",
    "    'Protein (g)', 'Sodium (mg)', \n",
    "       'Vitamin E (mg)', 'Copper (mg)', 'Iron (mg)', 'Magnesium (mg)', \n",
    "       'Phosphorus (mg)', 'Potassium (mg)', 'Zinc (mg)', 'Total Fat (g)', \n",
    "       'Saturated_fat (g)','Fiber total dietary (g)'\n",
    "        ]]\n",
    "        \n",
    "fruits_veggies.head()"
   ]
  },
  {
   "cell_type": "code",
   "execution_count": 84,
   "metadata": {},
   "outputs": [],
   "source": [
    "fruits_veggies.to_csv(\"new_figs.csv\",index=False)"
   ]
  },
  {
   "cell_type": "code",
   "execution_count": 80,
   "metadata": {},
   "outputs": [
    {
     "output_type": "execute_result",
     "data": {
      "text/plain": "Index(['Food_description', 'Calcium (mg)', 'Carbohydrate (g)', 'Copper (mg)',\n       'Energy (kcal)', 'Saturated_fat (g)', 'Fiber total dietary (g)',\n       'Iron (mg)', 'Magnesium (mg)', 'Phosphorus (mg)', 'Potassium (mg)',\n       'Protein (g)', 'Sodium (mg)', 'Sugar (g)', 'Total Fat (g)',\n       'Vitamin A (ug)', 'Vitamin B-6 (mg)', 'Vitamin C (mg)',\n       'Vitamin E (mg)', 'Water (g)', 'Zinc (mg)'],\n      dtype='object')"
     },
     "metadata": {},
     "execution_count": 80
    }
   ],
   "source": [
    "path = \"new_figs.csv\"\n",
    "df = pd.read_csv(path)\n",
    "df.columns"
   ]
  },
  {
   "cell_type": "code",
   "execution_count": 81,
   "metadata": {},
   "outputs": [],
   "source": [
    "#"
   ]
  },
  {
   "cell_type": "code",
   "execution_count": null,
   "metadata": {},
   "outputs": [],
   "source": []
  }
 ]
}