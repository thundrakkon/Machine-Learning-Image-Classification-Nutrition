{
 "cells": [
  {
   "cell_type": "code",
   "execution_count": 62,
   "metadata": {},
   "outputs": [],
   "source": [
    "import pandas as pd\n",
    "import numpy as np"
   ]
  },
  {
   "cell_type": "code",
   "execution_count": 63,
   "metadata": {},
   "outputs": [
    {
     "output_type": "execute_result",
     "data": {
      "text/plain": "   Food code           Main food description  ...  22:6 n-3\\n(g) Water\\n(g)\n0   11000000                     Milk, human  ...            0.0      87.50\n1   11100000                       Milk, NFS  ...            0.0      89.04\n2   11111000                     Milk, whole  ...            0.0      88.10\n3   11111100         Milk, low sodium, whole  ...            0.0      88.20\n4   11111150  Milk, calcium fortified, whole  ...            0.0      88.10\n\n[5 rows x 69 columns]",
      "text/html": "<div>\n<style scoped>\n    .dataframe tbody tr th:only-of-type {\n        vertical-align: middle;\n    }\n\n    .dataframe tbody tr th {\n        vertical-align: top;\n    }\n\n    .dataframe thead th {\n        text-align: right;\n    }\n</style>\n<table border=\"1\" class=\"dataframe\">\n  <thead>\n    <tr style=\"text-align: right;\">\n      <th></th>\n      <th>Food code</th>\n      <th>Main food description</th>\n      <th>WWEIA Category number</th>\n      <th>WWEIA Category description</th>\n      <th>Energy (kcal)</th>\n      <th>Protein (g)</th>\n      <th>Carbohydrate (g)</th>\n      <th>Sugars, total\\n(g)</th>\n      <th>Fiber, total dietary (g)</th>\n      <th>Total Fat (g)</th>\n      <th>Fatty acids, total saturated (g)</th>\n      <th>Fatty acids, total monounsaturated (g)</th>\n      <th>Fatty acids, total polyunsaturated (g)</th>\n      <th>Cholesterol (mg)</th>\n      <th>Retinol (mcg)</th>\n      <th>Vitamin A, RAE (mcg_RAE)</th>\n      <th>Carotene, alpha (mcg)</th>\n      <th>Carotene, beta (mcg)</th>\n      <th>Cryptoxanthin, beta (mcg)</th>\n      <th>Lycopene (mcg)</th>\n      <th>Lutein + zeaxanthin (mcg)</th>\n      <th>Thiamin (mg)</th>\n      <th>Riboflavin (mg)</th>\n      <th>Niacin (mg)</th>\n      <th>Vitamin B-6 (mg)</th>\n      <th>Folic acid (mcg)</th>\n      <th>Folate, food (mcg)</th>\n      <th>Folate, DFE (mcg_DFE)</th>\n      <th>Folate, total (mcg)</th>\n      <th>Choline, total (mg)</th>\n      <th>Vitamin B-12 (mcg)</th>\n      <th>Vitamin B-12, added\\n(mcg)</th>\n      <th>Vitamin C (mg)</th>\n      <th>Vitamin D (D2 + D3) (mcg)</th>\n      <th>Vitamin E (alpha-tocopherol) (mg)</th>\n      <th>Vitamin E, added\\n(mg)</th>\n      <th>Vitamin K (phylloquinone) (mcg)</th>\n      <th>Calcium (mg)</th>\n      <th>Phosphorus (mg)</th>\n      <th>Magnesium (mg)</th>\n      <th>Iron\\n(mg)</th>\n      <th>Zinc\\n(mg)</th>\n      <th>Copper (mg)</th>\n      <th>Selenium (mcg)</th>\n      <th>Potassium (mg)</th>\n      <th>Sodium (mg)</th>\n      <th>Caffeine (mg)</th>\n      <th>Theobromine (mg)</th>\n      <th>Alcohol (g)</th>\n      <th>4:0\\n(g)</th>\n      <th>6:0\\n(g)</th>\n      <th>8:0\\n(g)</th>\n      <th>10:0\\n(g)</th>\n      <th>12:0\\n(g)</th>\n      <th>14:0\\n(g)</th>\n      <th>16:0\\n(g)</th>\n      <th>18:0\\n(g)</th>\n      <th>16:1\\n(g)</th>\n      <th>18:1\\n(g)</th>\n      <th>20:1\\n(g)</th>\n      <th>22:1\\n(g)</th>\n      <th>18:2\\n(g)</th>\n      <th>18:3\\n(g)</th>\n      <th>18:4\\n(g)</th>\n      <th>20:4\\n(g)</th>\n      <th>20:5 n-3\\n(g)</th>\n      <th>22:5 n-3\\n(g)</th>\n      <th>22:6 n-3\\n(g)</th>\n      <th>Water\\n(g)</th>\n    </tr>\n  </thead>\n  <tbody>\n    <tr>\n      <th>0</th>\n      <td>11000000</td>\n      <td>Milk, human</td>\n      <td>9602</td>\n      <td>Human milk</td>\n      <td>70</td>\n      <td>1.03</td>\n      <td>6.89</td>\n      <td>6.89</td>\n      <td>0.0</td>\n      <td>4.38</td>\n      <td>2.009</td>\n      <td>1.658</td>\n      <td>0.497</td>\n      <td>14</td>\n      <td>60</td>\n      <td>61</td>\n      <td>0</td>\n      <td>7</td>\n      <td>0</td>\n      <td>0</td>\n      <td>0</td>\n      <td>0.014</td>\n      <td>0.036</td>\n      <td>0.177</td>\n      <td>0.011</td>\n      <td>0</td>\n      <td>5</td>\n      <td>5</td>\n      <td>5</td>\n      <td>16.0</td>\n      <td>0.05</td>\n      <td>0.0</td>\n      <td>5.0</td>\n      <td>0.1</td>\n      <td>0.08</td>\n      <td>0.0</td>\n      <td>0.3</td>\n      <td>32</td>\n      <td>14</td>\n      <td>3</td>\n      <td>0.03</td>\n      <td>0.17</td>\n      <td>0.052</td>\n      <td>1.8</td>\n      <td>51</td>\n      <td>17</td>\n      <td>0</td>\n      <td>0</td>\n      <td>0.0</td>\n      <td>0.000</td>\n      <td>0.000</td>\n      <td>0.000</td>\n      <td>0.063</td>\n      <td>0.256</td>\n      <td>0.321</td>\n      <td>0.919</td>\n      <td>0.293</td>\n      <td>0.129</td>\n      <td>1.475</td>\n      <td>0.040</td>\n      <td>0.0</td>\n      <td>0.374</td>\n      <td>0.052</td>\n      <td>0.0</td>\n      <td>0.026</td>\n      <td>0.000</td>\n      <td>0.000</td>\n      <td>0.0</td>\n      <td>87.50</td>\n    </tr>\n    <tr>\n      <th>1</th>\n      <td>11100000</td>\n      <td>Milk, NFS</td>\n      <td>1004</td>\n      <td>Milk, reduced fat</td>\n      <td>51</td>\n      <td>3.34</td>\n      <td>4.87</td>\n      <td>4.89</td>\n      <td>0.0</td>\n      <td>1.99</td>\n      <td>1.164</td>\n      <td>0.426</td>\n      <td>0.065</td>\n      <td>8</td>\n      <td>58</td>\n      <td>59</td>\n      <td>0</td>\n      <td>4</td>\n      <td>0</td>\n      <td>0</td>\n      <td>0</td>\n      <td>0.057</td>\n      <td>0.137</td>\n      <td>0.110</td>\n      <td>0.060</td>\n      <td>0</td>\n      <td>1</td>\n      <td>1</td>\n      <td>1</td>\n      <td>17.9</td>\n      <td>0.56</td>\n      <td>0.0</td>\n      <td>0.1</td>\n      <td>1.1</td>\n      <td>0.03</td>\n      <td>0.0</td>\n      <td>0.2</td>\n      <td>126</td>\n      <td>103</td>\n      <td>12</td>\n      <td>0.00</td>\n      <td>0.42</td>\n      <td>0.001</td>\n      <td>1.9</td>\n      <td>157</td>\n      <td>39</td>\n      <td>0</td>\n      <td>0</td>\n      <td>0.0</td>\n      <td>0.043</td>\n      <td>0.033</td>\n      <td>0.022</td>\n      <td>0.052</td>\n      <td>0.060</td>\n      <td>0.190</td>\n      <td>0.537</td>\n      <td>0.194</td>\n      <td>0.030</td>\n      <td>0.433</td>\n      <td>0.002</td>\n      <td>0.0</td>\n      <td>0.069</td>\n      <td>0.007</td>\n      <td>0.0</td>\n      <td>0.003</td>\n      <td>0.000</td>\n      <td>0.001</td>\n      <td>0.0</td>\n      <td>89.04</td>\n    </tr>\n    <tr>\n      <th>2</th>\n      <td>11111000</td>\n      <td>Milk, whole</td>\n      <td>1002</td>\n      <td>Milk, whole</td>\n      <td>60</td>\n      <td>3.28</td>\n      <td>4.67</td>\n      <td>4.81</td>\n      <td>0.0</td>\n      <td>3.20</td>\n      <td>1.860</td>\n      <td>0.688</td>\n      <td>0.108</td>\n      <td>12</td>\n      <td>31</td>\n      <td>32</td>\n      <td>0</td>\n      <td>7</td>\n      <td>0</td>\n      <td>0</td>\n      <td>0</td>\n      <td>0.056</td>\n      <td>0.138</td>\n      <td>0.105</td>\n      <td>0.061</td>\n      <td>0</td>\n      <td>0</td>\n      <td>0</td>\n      <td>0</td>\n      <td>17.8</td>\n      <td>0.54</td>\n      <td>0.0</td>\n      <td>0.0</td>\n      <td>1.1</td>\n      <td>0.05</td>\n      <td>0.0</td>\n      <td>0.3</td>\n      <td>123</td>\n      <td>101</td>\n      <td>12</td>\n      <td>0.00</td>\n      <td>0.41</td>\n      <td>0.001</td>\n      <td>1.9</td>\n      <td>150</td>\n      <td>38</td>\n      <td>0</td>\n      <td>0</td>\n      <td>0.0</td>\n      <td>0.067</td>\n      <td>0.054</td>\n      <td>0.034</td>\n      <td>0.084</td>\n      <td>0.097</td>\n      <td>0.303</td>\n      <td>0.857</td>\n      <td>0.309</td>\n      <td>0.047</td>\n      <td>0.694</td>\n      <td>0.004</td>\n      <td>0.0</td>\n      <td>0.115</td>\n      <td>0.012</td>\n      <td>0.0</td>\n      <td>0.004</td>\n      <td>0.001</td>\n      <td>0.002</td>\n      <td>0.0</td>\n      <td>88.10</td>\n    </tr>\n    <tr>\n      <th>3</th>\n      <td>11111100</td>\n      <td>Milk, low sodium, whole</td>\n      <td>1002</td>\n      <td>Milk, whole</td>\n      <td>61</td>\n      <td>3.10</td>\n      <td>4.46</td>\n      <td>4.46</td>\n      <td>0.0</td>\n      <td>3.46</td>\n      <td>2.154</td>\n      <td>0.999</td>\n      <td>0.128</td>\n      <td>14</td>\n      <td>28</td>\n      <td>29</td>\n      <td>0</td>\n      <td>7</td>\n      <td>0</td>\n      <td>0</td>\n      <td>0</td>\n      <td>0.020</td>\n      <td>0.105</td>\n      <td>0.043</td>\n      <td>0.034</td>\n      <td>0</td>\n      <td>5</td>\n      <td>5</td>\n      <td>5</td>\n      <td>16.0</td>\n      <td>0.36</td>\n      <td>0.0</td>\n      <td>0.9</td>\n      <td>1.3</td>\n      <td>0.08</td>\n      <td>0.0</td>\n      <td>0.3</td>\n      <td>101</td>\n      <td>86</td>\n      <td>5</td>\n      <td>0.05</td>\n      <td>0.38</td>\n      <td>0.010</td>\n      <td>2.0</td>\n      <td>253</td>\n      <td>3</td>\n      <td>0</td>\n      <td>0</td>\n      <td>0.0</td>\n      <td>0.112</td>\n      <td>0.066</td>\n      <td>0.039</td>\n      <td>0.087</td>\n      <td>0.097</td>\n      <td>0.348</td>\n      <td>0.910</td>\n      <td>0.419</td>\n      <td>0.077</td>\n      <td>0.870</td>\n      <td>0.000</td>\n      <td>0.0</td>\n      <td>0.078</td>\n      <td>0.050</td>\n      <td>0.0</td>\n      <td>0.000</td>\n      <td>0.000</td>\n      <td>0.000</td>\n      <td>0.0</td>\n      <td>88.20</td>\n    </tr>\n    <tr>\n      <th>4</th>\n      <td>11111150</td>\n      <td>Milk, calcium fortified, whole</td>\n      <td>1002</td>\n      <td>Milk, whole</td>\n      <td>60</td>\n      <td>3.28</td>\n      <td>4.67</td>\n      <td>4.81</td>\n      <td>0.0</td>\n      <td>3.20</td>\n      <td>1.860</td>\n      <td>0.688</td>\n      <td>0.108</td>\n      <td>12</td>\n      <td>31</td>\n      <td>32</td>\n      <td>0</td>\n      <td>7</td>\n      <td>0</td>\n      <td>0</td>\n      <td>0</td>\n      <td>0.056</td>\n      <td>0.138</td>\n      <td>0.105</td>\n      <td>0.061</td>\n      <td>0</td>\n      <td>0</td>\n      <td>0</td>\n      <td>0</td>\n      <td>17.8</td>\n      <td>0.54</td>\n      <td>0.0</td>\n      <td>0.0</td>\n      <td>1.1</td>\n      <td>0.05</td>\n      <td>0.0</td>\n      <td>0.3</td>\n      <td>123</td>\n      <td>101</td>\n      <td>12</td>\n      <td>0.00</td>\n      <td>0.41</td>\n      <td>0.001</td>\n      <td>1.9</td>\n      <td>150</td>\n      <td>38</td>\n      <td>0</td>\n      <td>0</td>\n      <td>0.0</td>\n      <td>0.067</td>\n      <td>0.054</td>\n      <td>0.034</td>\n      <td>0.084</td>\n      <td>0.097</td>\n      <td>0.303</td>\n      <td>0.857</td>\n      <td>0.309</td>\n      <td>0.047</td>\n      <td>0.694</td>\n      <td>0.004</td>\n      <td>0.0</td>\n      <td>0.115</td>\n      <td>0.012</td>\n      <td>0.0</td>\n      <td>0.004</td>\n      <td>0.001</td>\n      <td>0.002</td>\n      <td>0.0</td>\n      <td>88.10</td>\n    </tr>\n  </tbody>\n</table>\n</div>"
     },
     "metadata": {},
     "execution_count": 63
    }
   ],
   "source": [
    "file = \"2017-2018+FNDDS+At+A+Glance+-+FNDDS+Nutrient+Values.csv\"\n",
    "df = pd.read_csv(file)\n",
    "df.dropna()\n",
    "df.head() "
   ]
  },
  {
   "cell_type": "code",
   "execution_count": 64,
   "metadata": {},
   "outputs": [
    {
     "output_type": "execute_result",
     "data": {
      "text/plain": "Index(['Food code', 'Main food description', 'WWEIA Category number',\n       'WWEIA Category description', 'Energy (kcal)', 'Protein (g)',\n       'Carbohydrate (g)', 'Sugars, total\\n(g)', 'Fiber, total dietary (g)',\n       'Total Fat (g)', 'Fatty acids, total saturated (g)',\n       'Fatty acids, total monounsaturated (g)',\n       'Fatty acids, total polyunsaturated (g)', 'Cholesterol (mg)',\n       'Retinol (mcg)', 'Vitamin A, RAE (mcg_RAE)', 'Carotene, alpha (mcg)',\n       'Carotene, beta (mcg)', 'Cryptoxanthin, beta (mcg)', 'Lycopene (mcg)',\n       'Lutein + zeaxanthin (mcg)', 'Thiamin (mg)', 'Riboflavin (mg)',\n       'Niacin (mg)', 'Vitamin B-6 (mg)', 'Folic acid (mcg)',\n       'Folate, food (mcg)', 'Folate, DFE (mcg_DFE)', 'Folate, total (mcg)',\n       'Choline, total (mg)', 'Vitamin B-12 (mcg)',\n       'Vitamin B-12, added\\n(mcg)', 'Vitamin C (mg)',\n       'Vitamin D (D2 + D3) (mcg)', 'Vitamin E (alpha-tocopherol) (mg)',\n       'Vitamin E, added\\n(mg)', 'Vitamin K (phylloquinone) (mcg)',\n       'Calcium (mg)', 'Phosphorus (mg)', 'Magnesium (mg)', 'Iron\\n(mg)',\n       'Zinc\\n(mg)', 'Copper (mg)', 'Selenium (mcg)', 'Potassium (mg)',\n       'Sodium (mg)', 'Caffeine (mg)', 'Theobromine (mg)', 'Alcohol (g)',\n       '4:0\\n(g)', '6:0\\n(g)', '8:0\\n(g)', '10:0\\n(g)', '12:0\\n(g)',\n       '14:0\\n(g)', '16:0\\n(g)', '18:0\\n(g)', '16:1\\n(g)', '18:1\\n(g)',\n       '20:1\\n(g)', '22:1\\n(g)', '18:2\\n(g)', '18:3\\n(g)', '18:4\\n(g)',\n       '20:4\\n(g)', '20:5 n-3\\n(g)', '22:5 n-3\\n(g)', '22:6 n-3\\n(g)',\n       'Water\\n(g)'],\n      dtype='object')"
     },
     "metadata": {},
     "execution_count": 64
    }
   ],
   "source": [
    "df.columns"
   ]
  },
  {
   "cell_type": "code",
   "execution_count": 78,
   "metadata": {},
   "outputs": [
    {
     "output_type": "execute_result",
     "data": {
      "text/plain": "                 Food_description  ... Zinc (mg)\n0                     Milk, human  ...      0.17\n1                       Milk, NFS  ...      0.42\n2                     Milk, whole  ...      0.41\n3         Milk, low sodium, whole  ...      0.38\n4  Milk, calcium fortified, whole  ...      0.41\n\n[5 rows x 25 columns]",
      "text/html": "<div>\n<style scoped>\n    .dataframe tbody tr th:only-of-type {\n        vertical-align: middle;\n    }\n\n    .dataframe tbody tr th {\n        vertical-align: top;\n    }\n\n    .dataframe thead th {\n        text-align: right;\n    }\n</style>\n<table border=\"1\" class=\"dataframe\">\n  <thead>\n    <tr style=\"text-align: right;\">\n      <th></th>\n      <th>Food_description</th>\n      <th>Food_type</th>\n      <th>Energy (kcal)</th>\n      <th>Protein (g)</th>\n      <th>Carbohydrate (g)</th>\n      <th>Sugar (g)</th>\n      <th>Fiber, total dietary (g)</th>\n      <th>Total Fat (g)</th>\n      <th>Saturated_fat</th>\n      <th>Cholesterol (mg)</th>\n      <th>Vitamin C (mg)</th>\n      <th>Vitamin_D (mcg)</th>\n      <th>Vitamin E (mg)</th>\n      <th>Calcium (mg)</th>\n      <th>Magnesium (mg)</th>\n      <th>Iron (mg)</th>\n      <th>Potassium (mg)</th>\n      <th>Sodium (mg)</th>\n      <th>Caffeine (mg)</th>\n      <th>Vitamin A (ug)</th>\n      <th>Water (g)</th>\n      <th>Vitamin B-6 (mg)</th>\n      <th>Copper (mg)</th>\n      <th>Phosphorus (mg)</th>\n      <th>Zinc (mg)</th>\n    </tr>\n  </thead>\n  <tbody>\n    <tr>\n      <th>0</th>\n      <td>Milk, human</td>\n      <td>Human milk</td>\n      <td>70</td>\n      <td>1.03</td>\n      <td>6.89</td>\n      <td>6.89</td>\n      <td>0.0</td>\n      <td>4.38</td>\n      <td>2.009</td>\n      <td>14</td>\n      <td>5.0</td>\n      <td>0.1</td>\n      <td>0.08</td>\n      <td>32</td>\n      <td>3</td>\n      <td>0.03</td>\n      <td>51</td>\n      <td>17</td>\n      <td>0</td>\n      <td>61</td>\n      <td>87.50</td>\n      <td>0.011</td>\n      <td>0.052</td>\n      <td>14</td>\n      <td>0.17</td>\n    </tr>\n    <tr>\n      <th>1</th>\n      <td>Milk, NFS</td>\n      <td>Milk, reduced fat</td>\n      <td>51</td>\n      <td>3.34</td>\n      <td>4.87</td>\n      <td>4.89</td>\n      <td>0.0</td>\n      <td>1.99</td>\n      <td>1.164</td>\n      <td>8</td>\n      <td>0.1</td>\n      <td>1.1</td>\n      <td>0.03</td>\n      <td>126</td>\n      <td>12</td>\n      <td>0.00</td>\n      <td>157</td>\n      <td>39</td>\n      <td>0</td>\n      <td>59</td>\n      <td>89.04</td>\n      <td>0.060</td>\n      <td>0.001</td>\n      <td>103</td>\n      <td>0.42</td>\n    </tr>\n    <tr>\n      <th>2</th>\n      <td>Milk, whole</td>\n      <td>Milk, whole</td>\n      <td>60</td>\n      <td>3.28</td>\n      <td>4.67</td>\n      <td>4.81</td>\n      <td>0.0</td>\n      <td>3.20</td>\n      <td>1.860</td>\n      <td>12</td>\n      <td>0.0</td>\n      <td>1.1</td>\n      <td>0.05</td>\n      <td>123</td>\n      <td>12</td>\n      <td>0.00</td>\n      <td>150</td>\n      <td>38</td>\n      <td>0</td>\n      <td>32</td>\n      <td>88.10</td>\n      <td>0.061</td>\n      <td>0.001</td>\n      <td>101</td>\n      <td>0.41</td>\n    </tr>\n    <tr>\n      <th>3</th>\n      <td>Milk, low sodium, whole</td>\n      <td>Milk, whole</td>\n      <td>61</td>\n      <td>3.10</td>\n      <td>4.46</td>\n      <td>4.46</td>\n      <td>0.0</td>\n      <td>3.46</td>\n      <td>2.154</td>\n      <td>14</td>\n      <td>0.9</td>\n      <td>1.3</td>\n      <td>0.08</td>\n      <td>101</td>\n      <td>5</td>\n      <td>0.05</td>\n      <td>253</td>\n      <td>3</td>\n      <td>0</td>\n      <td>29</td>\n      <td>88.20</td>\n      <td>0.034</td>\n      <td>0.010</td>\n      <td>86</td>\n      <td>0.38</td>\n    </tr>\n    <tr>\n      <th>4</th>\n      <td>Milk, calcium fortified, whole</td>\n      <td>Milk, whole</td>\n      <td>60</td>\n      <td>3.28</td>\n      <td>4.67</td>\n      <td>4.81</td>\n      <td>0.0</td>\n      <td>3.20</td>\n      <td>1.860</td>\n      <td>12</td>\n      <td>0.0</td>\n      <td>1.1</td>\n      <td>0.05</td>\n      <td>123</td>\n      <td>12</td>\n      <td>0.00</td>\n      <td>150</td>\n      <td>38</td>\n      <td>0</td>\n      <td>32</td>\n      <td>88.10</td>\n      <td>0.061</td>\n      <td>0.001</td>\n      <td>101</td>\n      <td>0.41</td>\n    </tr>\n  </tbody>\n</table>\n</div>"
     },
     "metadata": {},
     "execution_count": 78
    }
   ],
   "source": [
    "#Removed irrelevant columns\n",
    "cleaned_df = df[['Main food description','WWEIA Category description','Energy (kcal)', 'Protein (g)','Carbohydrate (g)', 'Sugars, total\\n(g)', 'Fiber, total dietary (g)','Total Fat (g)', 'Fatty acids, total saturated (g)', 'Cholesterol (mg)','Vitamin C (mg)','Vitamin D (D2 + D3) (mcg)','Vitamin E (alpha-tocopherol) (mg)', 'Calcium (mg)','Magnesium (mg)', 'Iron\\n(mg)','Potassium (mg)', 'Sodium (mg)', 'Caffeine (mg)',\n",
    "\n",
    "\"Vitamin A, RAE (mcg_RAE)\",\"Water\\n(g)\",\"Vitamin B-6 (mg)\",\"Copper (mg)\",\"Phosphorus (mg)\",\"Zinc\\n(mg)\"]]\n",
    "\n",
    "# cleaned_df.head(1)\n",
    "#Rename columns \n",
    "cleaned_df = cleaned_df.rename(columns={\"Main food description\": \"Food_description\",\n",
    "                                       \"WWEIA Category description\": \"Food_type\",\n",
    "                                       \"Sugars, total\\n(g)\": \"Sugar (g)\",\n",
    "                                       \"Fiber,total dietary\": \"Fiber\",\n",
    "                                       \"Fatty acids, total saturated (g)\": \"Saturated_fat\",\n",
    "                                       \"Vitamin D (D2 + D3) (mcg)\": \"Vitamin_D (mcg)\",\n",
    "                                       \"Vitamin E (alpha-tocopherol) (mg)\": \"Vitamin E (mg)\",\n",
    "                                       \"Iron\\n(mg)\": \"Iron (mg)\",\n",
    "                                       \"Vitamin A, RAE (mcg_RAE)\": \"Vitamin A (ug)\",\n",
    "                                       \"Water\\n(g)\": \"Water (g)\",\n",
    "                                       \"Zinc\\n(mg)\": \"Zinc (mg)\"\n",
    "                                        })\n",
    "                    \n",
    "cleaned_df.head()"
   ]
  },
  {
   "cell_type": "code",
   "execution_count": 79,
   "metadata": {},
   "outputs": [
    {
     "output_type": "execute_result",
     "data": {
      "text/plain": "array(['Apple juice', 'Apples', 'Baby food: cereals', 'Baby food: fruit',\n       'Baby food: meat and dinners', 'Baby food: snacks and sweets',\n       'Baby food: vegetable', 'Baby food: yogurt', 'Baby juice',\n       'Baby water', 'Bacon', 'Bagels and English muffins', 'Bananas',\n       'Bean, pea, legume dishes', 'Beans, peas, legumes',\n       'Beef, excludes ground', 'Beer', 'Biscuits, muffins, quick breads',\n       'Blueberries and other berries', 'Bottled water', 'Broccoli',\n       'Burgers (single code)', 'Burritos and tacos',\n       'Butter and animal fats', 'Cabbage', 'Cakes and pies',\n       'Candy containing chocolate', 'Candy not containing chocolate',\n       'Carrots', 'Cereal bars', 'Cheese',\n       'Cheese sandwiches (single code)',\n       'Chicken patties, nuggets and tenders', 'Chicken, whole pieces',\n       'Chicken/turkey sandwiches (single code)', 'Citrus fruits',\n       'Citrus juice', 'Coffee', 'Cold cuts and cured meats',\n       'Coleslaw, non-lettuce salads', 'Cookies and brownies', 'Corn',\n       'Cottage/ricotta cheese', 'Crackers, excludes saltines',\n       'Cream and cream substitutes',\n       'Cream cheese, sour cream, whipped cream', 'Diet soft drinks',\n       'Diet sport and energy drinks', 'Dips, gravies, other sauces',\n       'Doughnuts, sweet rolls, pastries', 'Dried fruits',\n       'Egg rolls, dumplings, sushi',\n       'Egg/breakfast sandwiches (single code)', 'Eggs and omelets',\n       'Enhanced or fortified water', 'Fish', 'Flavored milk, lowfat',\n       'Flavored milk, nonfat', 'Flavored milk, reduced fat',\n       'Flavored milk, whole', 'Flavored or carbonated water',\n       'Formula, prepared from concentrate',\n       'Formula, prepared from powder', 'Formula, ready-to-feed',\n       'Frankfurter sandwiches (single code)', 'Frankfurters',\n       'French fries and other fried white potatoes',\n       'Fried rice and lo/chow mein', 'Fried vegetables', 'Fruit drinks',\n       'Gelatins, ices, sorbets', 'Grapes',\n       'Grits and other cooked cereals', 'Ground beef', 'Human milk',\n       'Ice cream and frozen dairy desserts', 'Jams, syrups, toppings',\n       'Lamb, goat, game', 'Lettuce and lettuce salads',\n       'Liquor and cocktails', 'Liver and organ meats',\n       'Macaroni and cheese', 'Mango and papaya', 'Margarine',\n       'Mashed potatoes and white potato mixtures', 'Mayonnaise',\n       'Meat mixed dishes', 'Melons',\n       'Milk shakes and other dairy drinks', 'Milk substitutes',\n       'Milk, lowfat', 'Milk, nonfat', 'Milk, reduced fat', 'Milk, whole',\n       'Mustard and other condiments', 'Nachos',\n       'Not included in a food category', 'Nutrition bars',\n       'Nutritional beverages', 'Nuts and seeds', 'Oatmeal',\n       'Olives, pickles, pickled vegetables', 'Onions',\n       'Other Mexican mixed dishes', 'Other dark green vegetables',\n       'Other diet drinks', 'Other fruit juice',\n       'Other fruits and fruit salads', 'Other red and orange vegetables',\n       'Other sandwiches (single code)', 'Other starchy vegetables',\n       'Other vegetables and combinations',\n       'Pancakes, waffles, French toast',\n       'Pasta mixed dishes, excludes macaroni and cheese',\n       'Pasta sauces, tomato-based', 'Pasta, noodles, cooked grains',\n       'Peaches and nectarines',\n       'Peanut butter and jelly sandwiches (single code)', 'Pears',\n       'Pineapple', 'Pizza', 'Popcorn', 'Pork', 'Potato chips',\n       'Poultry mixed dishes', 'Pretzels/snack mix',\n       'Processed soy products', 'Protein and nutritional powders',\n       'Pudding', 'Ready-to-eat cereal, higher sugar (>21.2g/100g)',\n       'Ready-to-eat cereal, lower sugar (=<21.2g/100g)', 'Rice',\n       'Rice mixed dishes', 'Rolls and buns',\n       'Salad dressings and vegetable oils', 'Saltine crackers',\n       'Sausages', 'Seafood mixed dishes',\n       'Seafood sandwiches (single code)', 'Shellfish',\n       'Smoothies and grain drinks', 'Soft drinks', 'Soups',\n       'Soy-based condiments', 'Spinach', 'Sport and energy drinks',\n       'Stir-fry and soy-based sauce mixtures', 'Strawberries',\n       'String beans', 'Sugar substitutes', 'Sugars and honey',\n       'Tap water', 'Tea', 'Tomato-based condiments', 'Tomatoes',\n       'Tortilla, corn, other chips', 'Tortillas',\n       'Turkey, duck, other poultry',\n       'Turnovers and other grain-based items', 'Vegetable dishes',\n       'Vegetable juice', 'Vegetables on a sandwich',\n       'White potatoes, baked or boiled', 'Wine', 'Yeast breads',\n       'Yogurt, Greek', 'Yogurt, regular'], dtype=object)"
     },
     "metadata": {},
     "execution_count": 79
    }
   ],
   "source": [
    "#used unique to filter out only fruits later\n",
    "unique_df = cleaned_df[\"Food_type\"].unique()\n",
    "#sort for better visibility\n",
    "unique_df.sort()\n",
    "unique_df\n"
   ]
  },
  {
   "cell_type": "code",
   "execution_count": 80,
   "metadata": {},
   "outputs": [
    {
     "output_type": "execute_result",
     "data": {
      "text/plain": "             Food_description  ... Zinc (mg)\n2113  Greens with ham or pork  ...      0.50\n2996                Nuts, NFS  ...      3.22\n2997             Almonds, NFS  ...      3.31\n2998       Almonds, unroasted  ...      3.12\n2999          Almonds, salted  ...      3.18\n\n[5 rows x 25 columns]",
      "text/html": "<div>\n<style scoped>\n    .dataframe tbody tr th:only-of-type {\n        vertical-align: middle;\n    }\n\n    .dataframe tbody tr th {\n        vertical-align: top;\n    }\n\n    .dataframe thead th {\n        text-align: right;\n    }\n</style>\n<table border=\"1\" class=\"dataframe\">\n  <thead>\n    <tr style=\"text-align: right;\">\n      <th></th>\n      <th>Food_description</th>\n      <th>Food_type</th>\n      <th>Energy (kcal)</th>\n      <th>Protein (g)</th>\n      <th>Carbohydrate (g)</th>\n      <th>Sugar (g)</th>\n      <th>Fiber, total dietary (g)</th>\n      <th>Total Fat (g)</th>\n      <th>Saturated_fat</th>\n      <th>Cholesterol (mg)</th>\n      <th>Vitamin C (mg)</th>\n      <th>Vitamin_D (mcg)</th>\n      <th>Vitamin E (mg)</th>\n      <th>Calcium (mg)</th>\n      <th>Magnesium (mg)</th>\n      <th>Iron (mg)</th>\n      <th>Potassium (mg)</th>\n      <th>Sodium (mg)</th>\n      <th>Caffeine (mg)</th>\n      <th>Vitamin A (ug)</th>\n      <th>Water (g)</th>\n      <th>Vitamin B-6 (mg)</th>\n      <th>Copper (mg)</th>\n      <th>Phosphorus (mg)</th>\n      <th>Zinc (mg)</th>\n    </tr>\n  </thead>\n  <tbody>\n    <tr>\n      <th>2113</th>\n      <td>Greens with ham or pork</td>\n      <td>Other dark green vegetables</td>\n      <td>44</td>\n      <td>4.91</td>\n      <td>4.68</td>\n      <td>0.84</td>\n      <td>3.6</td>\n      <td>1.41</td>\n      <td>0.277</td>\n      <td>7</td>\n      <td>40.5</td>\n      <td>0.1</td>\n      <td>1.46</td>\n      <td>205</td>\n      <td>30</td>\n      <td>1.10</td>\n      <td>303</td>\n      <td>370</td>\n      <td>0</td>\n      <td>222</td>\n      <td>86.78</td>\n      <td>0.193</td>\n      <td>0.086</td>\n      <td>73</td>\n      <td>0.50</td>\n    </tr>\n    <tr>\n      <th>2996</th>\n      <td>Nuts, NFS</td>\n      <td>Nuts and seeds</td>\n      <td>605</td>\n      <td>19.59</td>\n      <td>21.04</td>\n      <td>4.53</td>\n      <td>7.6</td>\n      <td>53.62</td>\n      <td>7.598</td>\n      <td>0</td>\n      <td>0.4</td>\n      <td>0.0</td>\n      <td>7.43</td>\n      <td>94</td>\n      <td>197</td>\n      <td>2.78</td>\n      <td>603</td>\n      <td>313</td>\n      <td>0</td>\n      <td>1</td>\n      <td>2.11</td>\n      <td>0.368</td>\n      <td>0.960</td>\n      <td>389</td>\n      <td>3.22</td>\n    </tr>\n    <tr>\n      <th>2997</th>\n      <td>Almonds, NFS</td>\n      <td>Nuts and seeds</td>\n      <td>598</td>\n      <td>20.96</td>\n      <td>21.01</td>\n      <td>4.86</td>\n      <td>10.9</td>\n      <td>52.54</td>\n      <td>4.092</td>\n      <td>0</td>\n      <td>0.0</td>\n      <td>0.0</td>\n      <td>23.90</td>\n      <td>268</td>\n      <td>279</td>\n      <td>3.73</td>\n      <td>713</td>\n      <td>3</td>\n      <td>0</td>\n      <td>0</td>\n      <td>2.41</td>\n      <td>0.136</td>\n      <td>1.099</td>\n      <td>471</td>\n      <td>3.31</td>\n    </tr>\n    <tr>\n      <th>2998</th>\n      <td>Almonds, unroasted</td>\n      <td>Nuts and seeds</td>\n      <td>579</td>\n      <td>21.15</td>\n      <td>21.55</td>\n      <td>4.35</td>\n      <td>12.5</td>\n      <td>49.93</td>\n      <td>3.802</td>\n      <td>0</td>\n      <td>0.0</td>\n      <td>0.0</td>\n      <td>25.63</td>\n      <td>269</td>\n      <td>270</td>\n      <td>3.71</td>\n      <td>733</td>\n      <td>1</td>\n      <td>0</td>\n      <td>0</td>\n      <td>4.41</td>\n      <td>0.137</td>\n      <td>1.031</td>\n      <td>481</td>\n      <td>3.12</td>\n    </tr>\n    <tr>\n      <th>2999</th>\n      <td>Almonds, salted</td>\n      <td>Nuts and seeds</td>\n      <td>601</td>\n      <td>20.13</td>\n      <td>20.18</td>\n      <td>4.67</td>\n      <td>10.5</td>\n      <td>53.43</td>\n      <td>4.336</td>\n      <td>0</td>\n      <td>0.0</td>\n      <td>0.0</td>\n      <td>23.30</td>\n      <td>258</td>\n      <td>268</td>\n      <td>3.59</td>\n      <td>685</td>\n      <td>386</td>\n      <td>0</td>\n      <td>0</td>\n      <td>2.32</td>\n      <td>0.131</td>\n      <td>1.055</td>\n      <td>452</td>\n      <td>3.18</td>\n    </tr>\n  </tbody>\n</table>\n</div>"
     },
     "metadata": {},
     "execution_count": 80
    }
   ],
   "source": [
    "#Filter out to keep only fruits\n",
    "fruits_df = cleaned_df.loc[(cleaned_df[\"Food_type\"] == \"Apples\") |\n",
    "                           (cleaned_df[\"Food_type\"] == \"Bananas\")  |\n",
    "                           (cleaned_df[\"Food_type\"] == \"Citrus fruits\") |\n",
    "                           (cleaned_df[\"Food_type\"] == \"Dried fruits\") |\n",
    "                           (cleaned_df[\"Food_type\"] == \"Grapes\")  |\n",
    "                           (cleaned_df[\"Food_type\"] == \"Corn\")  |\n",
    "                           (cleaned_df[\"Food_type\"] == \"Nuts and seeds\")  |\n",
    "                           (cleaned_df[\"Food_type\"] == \"Peaches and nectarines\")  |\n",
    "                           (cleaned_df[\"Food_type\"] == \"Melons\")  |\n",
    "                           (cleaned_df[\"Food_type\"] == \"Pears\")  |\n",
    "                           (cleaned_df[\"Food_type\"] == \"Spinach\")  |\n",
    "                           (cleaned_df[\"Food_type\"] == \"Pineapple\")  |\n",
    "                           (cleaned_df[\"Food_type\"] == \"Strawberries\") |\n",
    "                           (cleaned_df[\"Food_type\"] == \"String beans\") |\n",
    "                           (cleaned_df[\"Food_type\"] == \"Other dark green vegetables\") |\n",
    "                           (cleaned_df[\"Food_type\"] == \"Other red and orange vegetables\") |\n",
    "                           (cleaned_df[\"Food_type\"] == \"Other starchy vegetables\") |\n",
    "                           (cleaned_df[\"Food_type\"] == \"Other vegetables and combinations\")|\n",
    "                           (cleaned_df[\"Food_type\"] == \"Tomatoes\")]\n",
    "\n",
    "fruits_df.head()\n"
   ]
  },
  {
   "cell_type": "code",
   "execution_count": 81,
   "metadata": {},
   "outputs": [
    {
     "output_type": "execute_result",
     "data": {
      "text/plain": "Other vegetables and combinations    160\nNuts and seeds                        78\nOther dark green vegetables           65\nOther starchy vegetables              46\nOther red and orange vegetables       34\nCorn                                  20\nString beans                          20\nDried fruits                          19\nSpinach                               15\nCitrus fruits                         11\nApples                                 7\nPeaches and nectarines                 6\nTomatoes                               6\nPineapple                              5\nPears                                  5\nMelons                                 4\nStrawberries                           3\nBananas                                2\nGrapes                                 1\nName: Food_type, dtype: int64"
     },
     "metadata": {},
     "execution_count": 81
    }
   ],
   "source": [
    "#Check to see how many different type of fruits in each fruit's family\n",
    "fruits_count = fruits_df[\"Food_type\"].value_counts()\n",
    "fruits_count"
   ]
  },
  {
   "cell_type": "code",
   "execution_count": 82,
   "metadata": {},
   "outputs": [],
   "source": [
    "fruits_df = fruits_df.fillna(0)"
   ]
  },
  {
   "cell_type": "code",
   "execution_count": 83,
   "metadata": {},
   "outputs": [
    {
     "output_type": "execute_result",
     "data": {
      "text/plain": "Index(['Food_description', 'Food_type', 'Energy (kcal)', 'Protein (g)',\n       'Carbohydrate (g)', 'Sugar (g)', 'Fiber, total dietary (g)',\n       'Total Fat (g)', 'Saturated_fat', 'Cholesterol (mg)', 'Vitamin C (mg)',\n       'Vitamin_D (mcg)', 'Vitamin E (mg)', 'Calcium (mg)', 'Magnesium (mg)',\n       'Iron (mg)', 'Potassium (mg)', 'Sodium (mg)', 'Caffeine (mg)',\n       'Vitamin A (ug)', 'Water (g)', 'Vitamin B-6 (mg)', 'Copper (mg)',\n       'Phosphorus (mg)', 'Zinc (mg)'],\n      dtype='object')"
     },
     "metadata": {},
     "execution_count": 83
    }
   ],
   "source": [
    "fruits_df.columns"
   ]
  },
  {
   "cell_type": "code",
   "execution_count": 84,
   "metadata": {},
   "outputs": [
    {
     "output_type": "execute_result",
     "data": {
      "text/plain": "             Food_description  ... Zinc (mg)\n2113  Greens with ham or pork  ...       0.5\n\n[1 rows x 25 columns]",
      "text/html": "<div>\n<style scoped>\n    .dataframe tbody tr th:only-of-type {\n        vertical-align: middle;\n    }\n\n    .dataframe tbody tr th {\n        vertical-align: top;\n    }\n\n    .dataframe thead th {\n        text-align: right;\n    }\n</style>\n<table border=\"1\" class=\"dataframe\">\n  <thead>\n    <tr style=\"text-align: right;\">\n      <th></th>\n      <th>Food_description</th>\n      <th>Food_type</th>\n      <th>Energy (kcal)</th>\n      <th>Protein (g)</th>\n      <th>Carbohydrate (g)</th>\n      <th>Sugar (g)</th>\n      <th>Fiber total dietary (g)</th>\n      <th>Total Fat (g)</th>\n      <th>Saturated_fat (g)</th>\n      <th>Cholesterol (mg)</th>\n      <th>Vitamin C (mg)</th>\n      <th>Vitamin_D (mcg)</th>\n      <th>Vitamin E (mg)</th>\n      <th>Calcium (mg)</th>\n      <th>Magnesium (mg)</th>\n      <th>Iron (mg)</th>\n      <th>Potassium (mg)</th>\n      <th>Sodium (mg)</th>\n      <th>Caffeine (mg)</th>\n      <th>Vitamin A (ug)</th>\n      <th>Water (g)</th>\n      <th>Vitamin B-6 (mg)</th>\n      <th>Copper (mg)</th>\n      <th>Phosphorus (mg)</th>\n      <th>Zinc (mg)</th>\n    </tr>\n  </thead>\n  <tbody>\n    <tr>\n      <th>2113</th>\n      <td>Greens with ham or pork</td>\n      <td>Other dark green vegetables</td>\n      <td>44</td>\n      <td>4.91</td>\n      <td>4.68</td>\n      <td>0.84</td>\n      <td>3.6</td>\n      <td>1.41</td>\n      <td>0.277</td>\n      <td>7</td>\n      <td>40.5</td>\n      <td>0.1</td>\n      <td>1.46</td>\n      <td>205</td>\n      <td>30</td>\n      <td>1.1</td>\n      <td>303</td>\n      <td>370</td>\n      <td>0</td>\n      <td>222</td>\n      <td>86.78</td>\n      <td>0.193</td>\n      <td>0.086</td>\n      <td>73</td>\n      <td>0.5</td>\n    </tr>\n  </tbody>\n</table>\n</div>"
     },
     "metadata": {},
     "execution_count": 84
    }
   ],
   "source": [
    "filtered_df = fruits_df.rename(columns={\"Calcium, Ca\": \"Calcium (mg)\",\n",
    "                                      \"Carbohydrate, by difference\": \"Carbohydrate (g)\",\n",
    "                                      \"Copper, Cu\": \"Copper (mg)\",\n",
    "                                      \"Energy\": \"Energy (kcal)\",\n",
    "                                      \"Saturated_fat\": \"Saturated_fat (g)\",\n",
    "                                      \"Fiber, total dietary (g)\": \"Fiber total dietary (g)\",\n",
    "                                      \"Iron, Fe\": \"Iron (mg)\",\n",
    "                                      \"Magnesium, Mg\": \"Magnesium (mg)\",\n",
    "                                      \"Phosphorus, P\": \"Phosphorus (mg)\",\n",
    "                                      \"Potassium, K\": \"Potassium (mg)\",\n",
    "                                      \"Protein\": \"Protein (g)\",\n",
    "                                      \"Sodium, Na\": \"Sodium (mg)\",\n",
    "                                      \"Total lipid (fat)\": \"Total Fat (g)\",\n",
    "                                      \"Vitamin C, total ascorbic acid\": \"Vitamin C (mg)\",\n",
    "                                      \"Vitamin E (alpha-tocopherol)\": \"Vitamin E (mg)\",\n",
    "                                      \"Zinc, Zn\": \"Zinc (mg)\",\n",
    "                                      \"Water\": \"Water (g)\",\n",
    "                                      \"Zinc, Zn\": \"Zinc (mg)\",\n",
    "                                      \"Vitamin A, RAE\": \"Vitamin A (ug)\",\n",
    "                                      \"Vitamin B-6\": \"Vitamin B-6 (mg)\",\n",
    "                                      \"Sugars, total including NLEA\": \"Sugar (g)\",\n",
    "                                      \"Description\": \"Food_description\"\n",
    "                                     })\n",
    "filtered_df.head(1)    "
   ]
  },
  {
   "cell_type": "code",
   "execution_count": 89,
   "metadata": {},
   "outputs": [
    {
     "output_type": "execute_result",
     "data": {
      "text/plain": "             Food_description  ... Fiber total dietary (g)\n2113  Greens with ham or pork  ...                     3.6\n2996                Nuts, NFS  ...                     7.6\n2997             Almonds, NFS  ...                    10.9\n2998       Almonds, unroasted  ...                    12.5\n2999          Almonds, salted  ...                    10.5\n\n[5 rows x 20 columns]",
      "text/html": "<div>\n<style scoped>\n    .dataframe tbody tr th:only-of-type {\n        vertical-align: middle;\n    }\n\n    .dataframe tbody tr th {\n        vertical-align: top;\n    }\n\n    .dataframe thead th {\n        text-align: right;\n    }\n</style>\n<table border=\"1\" class=\"dataframe\">\n  <thead>\n    <tr style=\"text-align: right;\">\n      <th></th>\n      <th>Food_description</th>\n      <th>Food_type</th>\n      <th>Energy (kcal)</th>\n      <th>Water (g)</th>\n      <th>Sugar (g)</th>\n      <th>Vitamin C (mg)</th>\n      <th>Calcium (mg)</th>\n      <th>Carbohydrate (g)</th>\n      <th>Protein (g)</th>\n      <th>Sodium (mg)</th>\n      <th>Vitamin E (mg)</th>\n      <th>Copper (mg)</th>\n      <th>Iron (mg)</th>\n      <th>Magnesium (mg)</th>\n      <th>Phosphorus (mg)</th>\n      <th>Potassium (mg)</th>\n      <th>Zinc (mg)</th>\n      <th>Total Fat (g)</th>\n      <th>Saturated_fat (g)</th>\n      <th>Fiber total dietary (g)</th>\n    </tr>\n  </thead>\n  <tbody>\n    <tr>\n      <th>2113</th>\n      <td>Greens with ham or pork</td>\n      <td>Other dark green vegetables</td>\n      <td>44</td>\n      <td>86.78</td>\n      <td>0.84</td>\n      <td>40.5</td>\n      <td>205</td>\n      <td>4.68</td>\n      <td>4.91</td>\n      <td>370</td>\n      <td>1.46</td>\n      <td>0.086</td>\n      <td>1.10</td>\n      <td>30</td>\n      <td>73</td>\n      <td>303</td>\n      <td>0.50</td>\n      <td>1.41</td>\n      <td>0.277</td>\n      <td>3.6</td>\n    </tr>\n    <tr>\n      <th>2996</th>\n      <td>Nuts, NFS</td>\n      <td>Nuts and seeds</td>\n      <td>605</td>\n      <td>2.11</td>\n      <td>4.53</td>\n      <td>0.4</td>\n      <td>94</td>\n      <td>21.04</td>\n      <td>19.59</td>\n      <td>313</td>\n      <td>7.43</td>\n      <td>0.960</td>\n      <td>2.78</td>\n      <td>197</td>\n      <td>389</td>\n      <td>603</td>\n      <td>3.22</td>\n      <td>53.62</td>\n      <td>7.598</td>\n      <td>7.6</td>\n    </tr>\n    <tr>\n      <th>2997</th>\n      <td>Almonds, NFS</td>\n      <td>Nuts and seeds</td>\n      <td>598</td>\n      <td>2.41</td>\n      <td>4.86</td>\n      <td>0.0</td>\n      <td>268</td>\n      <td>21.01</td>\n      <td>20.96</td>\n      <td>3</td>\n      <td>23.90</td>\n      <td>1.099</td>\n      <td>3.73</td>\n      <td>279</td>\n      <td>471</td>\n      <td>713</td>\n      <td>3.31</td>\n      <td>52.54</td>\n      <td>4.092</td>\n      <td>10.9</td>\n    </tr>\n    <tr>\n      <th>2998</th>\n      <td>Almonds, unroasted</td>\n      <td>Nuts and seeds</td>\n      <td>579</td>\n      <td>4.41</td>\n      <td>4.35</td>\n      <td>0.0</td>\n      <td>269</td>\n      <td>21.55</td>\n      <td>21.15</td>\n      <td>1</td>\n      <td>25.63</td>\n      <td>1.031</td>\n      <td>3.71</td>\n      <td>270</td>\n      <td>481</td>\n      <td>733</td>\n      <td>3.12</td>\n      <td>49.93</td>\n      <td>3.802</td>\n      <td>12.5</td>\n    </tr>\n    <tr>\n      <th>2999</th>\n      <td>Almonds, salted</td>\n      <td>Nuts and seeds</td>\n      <td>601</td>\n      <td>2.32</td>\n      <td>4.67</td>\n      <td>0.0</td>\n      <td>258</td>\n      <td>20.18</td>\n      <td>20.13</td>\n      <td>386</td>\n      <td>23.30</td>\n      <td>1.055</td>\n      <td>3.59</td>\n      <td>268</td>\n      <td>452</td>\n      <td>685</td>\n      <td>3.18</td>\n      <td>53.43</td>\n      <td>4.336</td>\n      <td>10.5</td>\n    </tr>\n  </tbody>\n</table>\n</div>"
     },
     "metadata": {},
     "execution_count": 89
    }
   ],
   "source": [
    "fruits_veggies= filtered_df[['Food_description', \"Food_type\",'Energy (kcal)', 'Water (g)', 'Sugar (g)', 'Vitamin C (mg)', 'Calcium (mg)', 'Carbohydrate (g)',\n",
    "    'Protein (g)', 'Sodium (mg)', \n",
    "       'Vitamin E (mg)', 'Copper (mg)', 'Iron (mg)', 'Magnesium (mg)', \n",
    "       'Phosphorus (mg)', 'Potassium (mg)', 'Zinc (mg)', 'Total Fat (g)', \n",
    "       'Saturated_fat (g)','Fiber total dietary (g)'\n",
    "        ]]\n",
    "fruits_veggies.head()"
   ]
  },
  {
   "cell_type": "code",
   "execution_count": 90,
   "metadata": {},
   "outputs": [],
   "source": [
    "fruits_veggies.to_csv(\"new_figs_1.csv\",index=False)"
   ]
  },
  {
   "cell_type": "markdown",
   "metadata": {},
   "source": [
    "# New Dataset"
   ]
  },
  {
   "cell_type": "code",
   "execution_count": 5,
   "metadata": {},
   "outputs": [
    {
     "output_type": "execute_result",
     "data": {
      "text/plain": "  Description                Nutrient Name Published Date Unit Name  Value\n0  Grapefruit                      Protein       4/1/2020         G   0.63\n1  Grapefruit            Total lipid (fat)       4/1/2020         G   0.10\n2  Grapefruit  Carbohydrate, by difference       4/1/2020         G   8.08\n3  Grapefruit                       Energy       4/1/2020      KCAL  32.00\n4  Grapefruit               Alcohol, ethyl       4/1/2020         G   0.00",
      "text/html": "<div>\n<style scoped>\n    .dataframe tbody tr th:only-of-type {\n        vertical-align: middle;\n    }\n\n    .dataframe tbody tr th {\n        vertical-align: top;\n    }\n\n    .dataframe thead th {\n        text-align: right;\n    }\n</style>\n<table border=\"1\" class=\"dataframe\">\n  <thead>\n    <tr style=\"text-align: right;\">\n      <th></th>\n      <th>Description</th>\n      <th>Nutrient Name</th>\n      <th>Published Date</th>\n      <th>Unit Name</th>\n      <th>Value</th>\n    </tr>\n  </thead>\n  <tbody>\n    <tr>\n      <th>0</th>\n      <td>Grapefruit</td>\n      <td>Protein</td>\n      <td>4/1/2020</td>\n      <td>G</td>\n      <td>0.63</td>\n    </tr>\n    <tr>\n      <th>1</th>\n      <td>Grapefruit</td>\n      <td>Total lipid (fat)</td>\n      <td>4/1/2020</td>\n      <td>G</td>\n      <td>0.10</td>\n    </tr>\n    <tr>\n      <th>2</th>\n      <td>Grapefruit</td>\n      <td>Carbohydrate, by difference</td>\n      <td>4/1/2020</td>\n      <td>G</td>\n      <td>8.08</td>\n    </tr>\n    <tr>\n      <th>3</th>\n      <td>Grapefruit</td>\n      <td>Energy</td>\n      <td>4/1/2020</td>\n      <td>KCAL</td>\n      <td>32.00</td>\n    </tr>\n    <tr>\n      <th>4</th>\n      <td>Grapefruit</td>\n      <td>Alcohol, ethyl</td>\n      <td>4/1/2020</td>\n      <td>G</td>\n      <td>0.00</td>\n    </tr>\n  </tbody>\n</table>\n</div>"
     },
     "metadata": {},
     "execution_count": 5
    }
   ],
   "source": [
    "#New File\n",
    "file = \"data.csv\"\n",
    "df = pd.read_csv(file)\n",
    "df.head()\n"
   ]
  },
  {
   "cell_type": "code",
   "execution_count": 4,
   "metadata": {},
   "outputs": [
    {
     "data": {
      "text/plain": [
       "array(['4/1/2020', '4/1/2019', '12/16/2019'], dtype=object)"
      ]
     },
     "execution_count": 4,
     "metadata": {},
     "output_type": "execute_result"
    }
   ],
   "source": [
    "df[\"Published Date\"].unique()"
   ]
  },
  {
   "cell_type": "code",
   "execution_count": 6,
   "metadata": {
    "scrolled": true
   },
   "outputs": [
    {
     "output_type": "execute_result",
     "data": {
      "text/plain": "  Description                Nutrient Name Unit Name  Value\n0  Grapefruit                      Protein         G   0.63\n1  Grapefruit            Total lipid (fat)         G   0.10\n2  Grapefruit  Carbohydrate, by difference         G   8.08\n3  Grapefruit                       Energy      KCAL  32.00\n4  Grapefruit               Alcohol, ethyl         G   0.00",
      "text/html": "<div>\n<style scoped>\n    .dataframe tbody tr th:only-of-type {\n        vertical-align: middle;\n    }\n\n    .dataframe tbody tr th {\n        vertical-align: top;\n    }\n\n    .dataframe thead th {\n        text-align: right;\n    }\n</style>\n<table border=\"1\" class=\"dataframe\">\n  <thead>\n    <tr style=\"text-align: right;\">\n      <th></th>\n      <th>Description</th>\n      <th>Nutrient Name</th>\n      <th>Unit Name</th>\n      <th>Value</th>\n    </tr>\n  </thead>\n  <tbody>\n    <tr>\n      <th>0</th>\n      <td>Grapefruit</td>\n      <td>Protein</td>\n      <td>G</td>\n      <td>0.63</td>\n    </tr>\n    <tr>\n      <th>1</th>\n      <td>Grapefruit</td>\n      <td>Total lipid (fat)</td>\n      <td>G</td>\n      <td>0.10</td>\n    </tr>\n    <tr>\n      <th>2</th>\n      <td>Grapefruit</td>\n      <td>Carbohydrate, by difference</td>\n      <td>G</td>\n      <td>8.08</td>\n    </tr>\n    <tr>\n      <th>3</th>\n      <td>Grapefruit</td>\n      <td>Energy</td>\n      <td>KCAL</td>\n      <td>32.00</td>\n    </tr>\n    <tr>\n      <th>4</th>\n      <td>Grapefruit</td>\n      <td>Alcohol, ethyl</td>\n      <td>G</td>\n      <td>0.00</td>\n    </tr>\n  </tbody>\n</table>\n</div>"
     },
     "metadata": {},
     "execution_count": 6
    }
   ],
   "source": [
    "new_df = df.drop(columns=[\"Published Date\"])\n",
    "new_df.head()"
   ]
  },
  {
   "cell_type": "code",
   "execution_count": 7,
   "metadata": {},
   "outputs": [
    {
     "output_type": "execute_result",
     "data": {
      "text/plain": "   Description                       Nutrient Name Unit Name     Value\n0   Grapefruit                             Protein         G     0.630\n1   Grapefruit                   Total lipid (fat)         G     0.100\n2   Grapefruit         Carbohydrate, by difference         G     8.080\n3   Grapefruit                              Energy      KCAL    32.000\n4   Grapefruit                      Alcohol, ethyl         G     0.000\n5   Grapefruit                               Water         G    90.890\n6   Grapefruit                            Caffeine        MG     0.000\n7   Grapefruit                         Theobromine        MG     0.000\n8   Grapefruit        Sugars, total including NLEA         G     6.980\n9   Grapefruit                Fiber, total dietary         G     1.100\n10  Grapefruit                         Calcium, Ca        MG    12.000\n11  Grapefruit                            Iron, Fe        MG     0.090\n12  Grapefruit                       Magnesium, Mg        MG     8.000\n13  Grapefruit                       Phosphorus, P        MG     8.000\n14  Grapefruit                        Potassium, K        MG   139.000\n15  Grapefruit                          Sodium, Na        MG     0.000\n16  Grapefruit                            Zinc, Zn        MG     0.070\n17  Grapefruit                          Copper, Cu        MG     0.047\n18  Grapefruit                        Selenium, Se        UG     0.300\n19  Grapefruit                             Retinol        UG     0.000\n20  Grapefruit                      Vitamin A, RAE        UG    46.000\n21  Grapefruit                      Carotene, beta        UG   552.000\n22  Grapefruit                     Carotene, alpha        UG     4.000\n23  Grapefruit        Vitamin E (alpha-tocopherol)        MG     0.130\n24  Grapefruit                 Vitamin D (D2 + D3)        UG     0.000\n25  Grapefruit                 Cryptoxanthin, beta        UG     6.000\n26  Grapefruit                            Lycopene        UG  1135.000\n27  Grapefruit                 Lutein + zeaxanthin        UG     6.000\n28  Grapefruit      Vitamin C, total ascorbic acid        MG    34.400\n29  Grapefruit                             Thiamin        MG     0.036\n30  Grapefruit                          Riboflavin        MG     0.020\n31  Grapefruit                              Niacin        MG     0.250\n32  Grapefruit                         Vitamin B-6        MG     0.042\n33  Grapefruit                       Folate, total        UG    10.000\n34  Grapefruit                        Vitamin B-12        UG     0.000\n35  Grapefruit                      Choline, total        MG     7.700\n36  Grapefruit           Vitamin K (phylloquinone)        UG     0.000\n37  Grapefruit                          Folic acid        UG     0.000\n38  Grapefruit                        Folate, food        UG    10.000\n39  Grapefruit                         Folate, DFE        UG    10.000\n40  Grapefruit                    Vitamin E, added        MG     0.000\n41  Grapefruit                 Vitamin B-12, added        UG     0.000\n42  Grapefruit                         Cholesterol        MG     0.000\n43  Grapefruit        Fatty acids, total saturated         G     0.014\n44  Grapefruit  Fatty acids, total monounsaturated         G     0.013\n45  Grapefruit  Fatty acids, total polyunsaturated         G     0.024",
      "text/html": "<div>\n<style scoped>\n    .dataframe tbody tr th:only-of-type {\n        vertical-align: middle;\n    }\n\n    .dataframe tbody tr th {\n        vertical-align: top;\n    }\n\n    .dataframe thead th {\n        text-align: right;\n    }\n</style>\n<table border=\"1\" class=\"dataframe\">\n  <thead>\n    <tr style=\"text-align: right;\">\n      <th></th>\n      <th>Description</th>\n      <th>Nutrient Name</th>\n      <th>Unit Name</th>\n      <th>Value</th>\n    </tr>\n  </thead>\n  <tbody>\n    <tr>\n      <th>0</th>\n      <td>Grapefruit</td>\n      <td>Protein</td>\n      <td>G</td>\n      <td>0.630</td>\n    </tr>\n    <tr>\n      <th>1</th>\n      <td>Grapefruit</td>\n      <td>Total lipid (fat)</td>\n      <td>G</td>\n      <td>0.100</td>\n    </tr>\n    <tr>\n      <th>2</th>\n      <td>Grapefruit</td>\n      <td>Carbohydrate, by difference</td>\n      <td>G</td>\n      <td>8.080</td>\n    </tr>\n    <tr>\n      <th>3</th>\n      <td>Grapefruit</td>\n      <td>Energy</td>\n      <td>KCAL</td>\n      <td>32.000</td>\n    </tr>\n    <tr>\n      <th>4</th>\n      <td>Grapefruit</td>\n      <td>Alcohol, ethyl</td>\n      <td>G</td>\n      <td>0.000</td>\n    </tr>\n    <tr>\n      <th>5</th>\n      <td>Grapefruit</td>\n      <td>Water</td>\n      <td>G</td>\n      <td>90.890</td>\n    </tr>\n    <tr>\n      <th>6</th>\n      <td>Grapefruit</td>\n      <td>Caffeine</td>\n      <td>MG</td>\n      <td>0.000</td>\n    </tr>\n    <tr>\n      <th>7</th>\n      <td>Grapefruit</td>\n      <td>Theobromine</td>\n      <td>MG</td>\n      <td>0.000</td>\n    </tr>\n    <tr>\n      <th>8</th>\n      <td>Grapefruit</td>\n      <td>Sugars, total including NLEA</td>\n      <td>G</td>\n      <td>6.980</td>\n    </tr>\n    <tr>\n      <th>9</th>\n      <td>Grapefruit</td>\n      <td>Fiber, total dietary</td>\n      <td>G</td>\n      <td>1.100</td>\n    </tr>\n    <tr>\n      <th>10</th>\n      <td>Grapefruit</td>\n      <td>Calcium, Ca</td>\n      <td>MG</td>\n      <td>12.000</td>\n    </tr>\n    <tr>\n      <th>11</th>\n      <td>Grapefruit</td>\n      <td>Iron, Fe</td>\n      <td>MG</td>\n      <td>0.090</td>\n    </tr>\n    <tr>\n      <th>12</th>\n      <td>Grapefruit</td>\n      <td>Magnesium, Mg</td>\n      <td>MG</td>\n      <td>8.000</td>\n    </tr>\n    <tr>\n      <th>13</th>\n      <td>Grapefruit</td>\n      <td>Phosphorus, P</td>\n      <td>MG</td>\n      <td>8.000</td>\n    </tr>\n    <tr>\n      <th>14</th>\n      <td>Grapefruit</td>\n      <td>Potassium, K</td>\n      <td>MG</td>\n      <td>139.000</td>\n    </tr>\n    <tr>\n      <th>15</th>\n      <td>Grapefruit</td>\n      <td>Sodium, Na</td>\n      <td>MG</td>\n      <td>0.000</td>\n    </tr>\n    <tr>\n      <th>16</th>\n      <td>Grapefruit</td>\n      <td>Zinc, Zn</td>\n      <td>MG</td>\n      <td>0.070</td>\n    </tr>\n    <tr>\n      <th>17</th>\n      <td>Grapefruit</td>\n      <td>Copper, Cu</td>\n      <td>MG</td>\n      <td>0.047</td>\n    </tr>\n    <tr>\n      <th>18</th>\n      <td>Grapefruit</td>\n      <td>Selenium, Se</td>\n      <td>UG</td>\n      <td>0.300</td>\n    </tr>\n    <tr>\n      <th>19</th>\n      <td>Grapefruit</td>\n      <td>Retinol</td>\n      <td>UG</td>\n      <td>0.000</td>\n    </tr>\n    <tr>\n      <th>20</th>\n      <td>Grapefruit</td>\n      <td>Vitamin A, RAE</td>\n      <td>UG</td>\n      <td>46.000</td>\n    </tr>\n    <tr>\n      <th>21</th>\n      <td>Grapefruit</td>\n      <td>Carotene, beta</td>\n      <td>UG</td>\n      <td>552.000</td>\n    </tr>\n    <tr>\n      <th>22</th>\n      <td>Grapefruit</td>\n      <td>Carotene, alpha</td>\n      <td>UG</td>\n      <td>4.000</td>\n    </tr>\n    <tr>\n      <th>23</th>\n      <td>Grapefruit</td>\n      <td>Vitamin E (alpha-tocopherol)</td>\n      <td>MG</td>\n      <td>0.130</td>\n    </tr>\n    <tr>\n      <th>24</th>\n      <td>Grapefruit</td>\n      <td>Vitamin D (D2 + D3)</td>\n      <td>UG</td>\n      <td>0.000</td>\n    </tr>\n    <tr>\n      <th>25</th>\n      <td>Grapefruit</td>\n      <td>Cryptoxanthin, beta</td>\n      <td>UG</td>\n      <td>6.000</td>\n    </tr>\n    <tr>\n      <th>26</th>\n      <td>Grapefruit</td>\n      <td>Lycopene</td>\n      <td>UG</td>\n      <td>1135.000</td>\n    </tr>\n    <tr>\n      <th>27</th>\n      <td>Grapefruit</td>\n      <td>Lutein + zeaxanthin</td>\n      <td>UG</td>\n      <td>6.000</td>\n    </tr>\n    <tr>\n      <th>28</th>\n      <td>Grapefruit</td>\n      <td>Vitamin C, total ascorbic acid</td>\n      <td>MG</td>\n      <td>34.400</td>\n    </tr>\n    <tr>\n      <th>29</th>\n      <td>Grapefruit</td>\n      <td>Thiamin</td>\n      <td>MG</td>\n      <td>0.036</td>\n    </tr>\n    <tr>\n      <th>30</th>\n      <td>Grapefruit</td>\n      <td>Riboflavin</td>\n      <td>MG</td>\n      <td>0.020</td>\n    </tr>\n    <tr>\n      <th>31</th>\n      <td>Grapefruit</td>\n      <td>Niacin</td>\n      <td>MG</td>\n      <td>0.250</td>\n    </tr>\n    <tr>\n      <th>32</th>\n      <td>Grapefruit</td>\n      <td>Vitamin B-6</td>\n      <td>MG</td>\n      <td>0.042</td>\n    </tr>\n    <tr>\n      <th>33</th>\n      <td>Grapefruit</td>\n      <td>Folate, total</td>\n      <td>UG</td>\n      <td>10.000</td>\n    </tr>\n    <tr>\n      <th>34</th>\n      <td>Grapefruit</td>\n      <td>Vitamin B-12</td>\n      <td>UG</td>\n      <td>0.000</td>\n    </tr>\n    <tr>\n      <th>35</th>\n      <td>Grapefruit</td>\n      <td>Choline, total</td>\n      <td>MG</td>\n      <td>7.700</td>\n    </tr>\n    <tr>\n      <th>36</th>\n      <td>Grapefruit</td>\n      <td>Vitamin K (phylloquinone)</td>\n      <td>UG</td>\n      <td>0.000</td>\n    </tr>\n    <tr>\n      <th>37</th>\n      <td>Grapefruit</td>\n      <td>Folic acid</td>\n      <td>UG</td>\n      <td>0.000</td>\n    </tr>\n    <tr>\n      <th>38</th>\n      <td>Grapefruit</td>\n      <td>Folate, food</td>\n      <td>UG</td>\n      <td>10.000</td>\n    </tr>\n    <tr>\n      <th>39</th>\n      <td>Grapefruit</td>\n      <td>Folate, DFE</td>\n      <td>UG</td>\n      <td>10.000</td>\n    </tr>\n    <tr>\n      <th>40</th>\n      <td>Grapefruit</td>\n      <td>Vitamin E, added</td>\n      <td>MG</td>\n      <td>0.000</td>\n    </tr>\n    <tr>\n      <th>41</th>\n      <td>Grapefruit</td>\n      <td>Vitamin B-12, added</td>\n      <td>UG</td>\n      <td>0.000</td>\n    </tr>\n    <tr>\n      <th>42</th>\n      <td>Grapefruit</td>\n      <td>Cholesterol</td>\n      <td>MG</td>\n      <td>0.000</td>\n    </tr>\n    <tr>\n      <th>43</th>\n      <td>Grapefruit</td>\n      <td>Fatty acids, total saturated</td>\n      <td>G</td>\n      <td>0.014</td>\n    </tr>\n    <tr>\n      <th>44</th>\n      <td>Grapefruit</td>\n      <td>Fatty acids, total monounsaturated</td>\n      <td>G</td>\n      <td>0.013</td>\n    </tr>\n    <tr>\n      <th>45</th>\n      <td>Grapefruit</td>\n      <td>Fatty acids, total polyunsaturated</td>\n      <td>G</td>\n      <td>0.024</td>\n    </tr>\n  </tbody>\n</table>\n</div>"
     },
     "metadata": {},
     "execution_count": 7
    }
   ],
   "source": [
    "new_df.loc[(new_df[\"Description\"] == \"Grapefruit\")]"
   ]
  },
  {
   "cell_type": "code",
   "execution_count": 15,
   "metadata": {},
   "outputs": [
    {
     "output_type": "execute_result",
     "data": {
      "text/plain": "     Description                   Nutrient Name Unit Name   Value\n0     Grapefruit                         Protein         G   0.630\n1     Grapefruit               Total lipid (fat)         G   0.100\n2     Grapefruit     Carbohydrate, by difference         G   8.080\n3     Grapefruit                          Energy      KCAL  32.000\n5     Grapefruit                           Water         G  90.890\n...          ...                             ...       ...     ...\n2802    Collards    Vitamin E (alpha-tocopherol)        MG   2.260\n2803    Collards             Vitamin D (D2 + D3)        UG   0.000\n2807    Collards  Vitamin C, total ascorbic acid        MG  35.300\n2821    Collards                     Cholesterol        MG   0.000\n2822    Collards    Fatty acids, total saturated         G   0.055\n\n[996 rows x 4 columns]",
      "text/html": "<div>\n<style scoped>\n    .dataframe tbody tr th:only-of-type {\n        vertical-align: middle;\n    }\n\n    .dataframe tbody tr th {\n        vertical-align: top;\n    }\n\n    .dataframe thead th {\n        text-align: right;\n    }\n</style>\n<table border=\"1\" class=\"dataframe\">\n  <thead>\n    <tr style=\"text-align: right;\">\n      <th></th>\n      <th>Description</th>\n      <th>Nutrient Name</th>\n      <th>Unit Name</th>\n      <th>Value</th>\n    </tr>\n  </thead>\n  <tbody>\n    <tr>\n      <th>0</th>\n      <td>Grapefruit</td>\n      <td>Protein</td>\n      <td>G</td>\n      <td>0.630</td>\n    </tr>\n    <tr>\n      <th>1</th>\n      <td>Grapefruit</td>\n      <td>Total lipid (fat)</td>\n      <td>G</td>\n      <td>0.100</td>\n    </tr>\n    <tr>\n      <th>2</th>\n      <td>Grapefruit</td>\n      <td>Carbohydrate, by difference</td>\n      <td>G</td>\n      <td>8.080</td>\n    </tr>\n    <tr>\n      <th>3</th>\n      <td>Grapefruit</td>\n      <td>Energy</td>\n      <td>KCAL</td>\n      <td>32.000</td>\n    </tr>\n    <tr>\n      <th>5</th>\n      <td>Grapefruit</td>\n      <td>Water</td>\n      <td>G</td>\n      <td>90.890</td>\n    </tr>\n    <tr>\n      <th>...</th>\n      <td>...</td>\n      <td>...</td>\n      <td>...</td>\n      <td>...</td>\n    </tr>\n    <tr>\n      <th>2802</th>\n      <td>Collards</td>\n      <td>Vitamin E (alpha-tocopherol)</td>\n      <td>MG</td>\n      <td>2.260</td>\n    </tr>\n    <tr>\n      <th>2803</th>\n      <td>Collards</td>\n      <td>Vitamin D (D2 + D3)</td>\n      <td>UG</td>\n      <td>0.000</td>\n    </tr>\n    <tr>\n      <th>2807</th>\n      <td>Collards</td>\n      <td>Vitamin C, total ascorbic acid</td>\n      <td>MG</td>\n      <td>35.300</td>\n    </tr>\n    <tr>\n      <th>2821</th>\n      <td>Collards</td>\n      <td>Cholesterol</td>\n      <td>MG</td>\n      <td>0.000</td>\n    </tr>\n    <tr>\n      <th>2822</th>\n      <td>Collards</td>\n      <td>Fatty acids, total saturated</td>\n      <td>G</td>\n      <td>0.055</td>\n    </tr>\n  </tbody>\n</table>\n<p>996 rows × 4 columns</p>\n</div>"
     },
     "metadata": {},
     "execution_count": 15
    }
   ],
   "source": [
    "new_fruits_df = new_df.loc[(new_df[\"Nutrient Name\"] == \"Protein\") |\n",
    "                           (new_df[\"Nutrient Name\"] == \"Total lipid (fat)\")  |\n",
    "                           (new_df[\"Nutrient Name\"] == \"Carbohydrate, by difference\") |\n",
    "                           (new_df[\"Nutrient Name\"] == \"Water\") |\n",
    "                           (new_df[\"Nutrient Name\"] == \"Fiber, total dietary\") |\n",
    "                           (new_df[\"Nutrient Name\"] == \"Calcium, Ca\") |\n",
    "                           (new_df[\"Nutrient Name\"] == \"Iron, Fe\") |\n",
    "                           (new_df[\"Nutrient Name\"] == \"Magnesium, Mg\") |\n",
    "                           (new_df[\"Nutrient Name\"] == \"Phosphorus, P\") |\n",
    "                           (new_df[\"Nutrient Name\"] == \"Potassium, K\") |\n",
    "                           (new_df[\"Nutrient Name\"] == \"Energy\") |\n",
    "                           (new_df[\"Nutrient Name\"] == \"Sodium, Na\") |\n",
    "                           (new_df[\"Nutrient Name\"] == \"Zinc, Zn\") |\n",
    "                           (new_df[\"Nutrient Name\"] == \"Copper, Cu\") |\n",
    "                           (new_df[\"Nutrient Name\"] == \"Vitamin E (alpha-tocopherol)\") |\n",
    "                           (new_df[\"Nutrient Name\"] == \"Vitamin D (D2 + D3)\") |\n",
    "                           (new_df[\"Nutrient Name\"] == \"Vitamin C, total ascorbic acid\") |\n",
    "                           (new_df[\"Nutrient Name\"] == \"Cholesterol\") |\n",
    "                           (new_df[\"Nutrient Name\"] == \"Fatty acids, total saturated\") |\n",
    "                           (new_df[\"Nutrient Name\"] == \"Sucrose\") |\n",
    "                           (new_df[\"Nutrient Name\"] == \"Glucose (dextrose)\") |\n",
    "                           (new_df[\"Nutrient Name\"] == \"Starch\")]\n",
    "new_fruits_df\n"
   ]
  },
  {
   "cell_type": "code",
   "execution_count": 22,
   "metadata": {},
   "outputs": [
    {
     "output_type": "execute_result",
     "data": {
      "text/plain": "Nutrient Name  Calcium, Ca  Carbohydrate, by difference  Cholesterol  \\\nDescription                                                            \nAbiyuch                8.0                        17.60          NaN   \nApple                  6.0                        13.81          0.0   \nApricot               13.0                        11.12          0.0   \nApricots              13.0                        11.12          0.0   \nArrowhead             10.0                        20.23          0.0   \n\nNutrient Name  Copper, Cu  Energy  Fatty acids, total saturated  \\\nDescription                                                       \nAbiyuch             0.057   359.0                         0.014   \nApple               0.027    52.0                         0.028   \nApricot             0.078    48.0                         0.027   \nApricots            0.078   249.0                         0.027   \nArrowhead           0.171   513.0                           NaN   \n\nNutrient Name  Fiber, total dietary  Glucose (dextrose)  Iron, Fe  \\\nDescription                                                         \nAbiyuch                         5.3                4.50      1.61   \nApple                           2.4                 NaN      0.12   \nApricot                         2.0                 NaN      0.39   \nApricots                        2.0                2.37      0.39   \nArrowhead                       NaN                 NaN      2.57   \n\nNutrient Name  Magnesium, Mg  ...  Protein  Sodium, Na  Starch  Sucrose  \\\nDescription                   ...                                         \nAbiyuch                 24.0  ...     1.50        20.0     NaN     0.05   \nApple                    5.0  ...     0.26         1.0     NaN      NaN   \nApricot                 10.0  ...     1.40         1.0     NaN      NaN   \nApricots                10.0  ...     1.40         1.0     NaN     5.87   \nArrowhead               51.0  ...     5.33        22.0     NaN      NaN   \n\nNutrient Name  Total lipid (fat)  Vitamin C, total ascorbic acid  \\\nDescription                                                        \nAbiyuch                     0.10                            54.1   \nApple                       0.17                             4.6   \nApricot                     0.39                            10.0   \nApricots                    0.39                            10.0   \nArrowhead                   0.29                             1.1   \n\nNutrient Name  Vitamin D (D2 + D3)  Vitamin E (alpha-tocopherol)  Water  \\\nDescription                                                               \nAbiyuch                        NaN                           NaN  79.90   \nApple                          0.0                          0.18  85.56   \nApricot                        0.0                          0.89  86.35   \nApricots                       0.0                          0.89  86.35   \nArrowhead                      0.0                           NaN  72.48   \n\nNutrient Name  Zinc, Zn  \nDescription              \nAbiyuch            0.31  \nApple              0.04  \nApricot            0.20  \nApricots           0.20  \nArrowhead          0.28  \n\n[5 rows x 22 columns]",
      "text/html": "<div>\n<style scoped>\n    .dataframe tbody tr th:only-of-type {\n        vertical-align: middle;\n    }\n\n    .dataframe tbody tr th {\n        vertical-align: top;\n    }\n\n    .dataframe thead th {\n        text-align: right;\n    }\n</style>\n<table border=\"1\" class=\"dataframe\">\n  <thead>\n    <tr style=\"text-align: right;\">\n      <th>Nutrient Name</th>\n      <th>Calcium, Ca</th>\n      <th>Carbohydrate, by difference</th>\n      <th>Cholesterol</th>\n      <th>Copper, Cu</th>\n      <th>Energy</th>\n      <th>Fatty acids, total saturated</th>\n      <th>Fiber, total dietary</th>\n      <th>Glucose (dextrose)</th>\n      <th>Iron, Fe</th>\n      <th>Magnesium, Mg</th>\n      <th>...</th>\n      <th>Protein</th>\n      <th>Sodium, Na</th>\n      <th>Starch</th>\n      <th>Sucrose</th>\n      <th>Total lipid (fat)</th>\n      <th>Vitamin C, total ascorbic acid</th>\n      <th>Vitamin D (D2 + D3)</th>\n      <th>Vitamin E (alpha-tocopherol)</th>\n      <th>Water</th>\n      <th>Zinc, Zn</th>\n    </tr>\n    <tr>\n      <th>Description</th>\n      <th></th>\n      <th></th>\n      <th></th>\n      <th></th>\n      <th></th>\n      <th></th>\n      <th></th>\n      <th></th>\n      <th></th>\n      <th></th>\n      <th></th>\n      <th></th>\n      <th></th>\n      <th></th>\n      <th></th>\n      <th></th>\n      <th></th>\n      <th></th>\n      <th></th>\n      <th></th>\n      <th></th>\n    </tr>\n  </thead>\n  <tbody>\n    <tr>\n      <th>Abiyuch</th>\n      <td>8.0</td>\n      <td>17.60</td>\n      <td>NaN</td>\n      <td>0.057</td>\n      <td>359.0</td>\n      <td>0.014</td>\n      <td>5.3</td>\n      <td>4.50</td>\n      <td>1.61</td>\n      <td>24.0</td>\n      <td>...</td>\n      <td>1.50</td>\n      <td>20.0</td>\n      <td>NaN</td>\n      <td>0.05</td>\n      <td>0.10</td>\n      <td>54.1</td>\n      <td>NaN</td>\n      <td>NaN</td>\n      <td>79.90</td>\n      <td>0.31</td>\n    </tr>\n    <tr>\n      <th>Apple</th>\n      <td>6.0</td>\n      <td>13.81</td>\n      <td>0.0</td>\n      <td>0.027</td>\n      <td>52.0</td>\n      <td>0.028</td>\n      <td>2.4</td>\n      <td>NaN</td>\n      <td>0.12</td>\n      <td>5.0</td>\n      <td>...</td>\n      <td>0.26</td>\n      <td>1.0</td>\n      <td>NaN</td>\n      <td>NaN</td>\n      <td>0.17</td>\n      <td>4.6</td>\n      <td>0.0</td>\n      <td>0.18</td>\n      <td>85.56</td>\n      <td>0.04</td>\n    </tr>\n    <tr>\n      <th>Apricot</th>\n      <td>13.0</td>\n      <td>11.12</td>\n      <td>0.0</td>\n      <td>0.078</td>\n      <td>48.0</td>\n      <td>0.027</td>\n      <td>2.0</td>\n      <td>NaN</td>\n      <td>0.39</td>\n      <td>10.0</td>\n      <td>...</td>\n      <td>1.40</td>\n      <td>1.0</td>\n      <td>NaN</td>\n      <td>NaN</td>\n      <td>0.39</td>\n      <td>10.0</td>\n      <td>0.0</td>\n      <td>0.89</td>\n      <td>86.35</td>\n      <td>0.20</td>\n    </tr>\n    <tr>\n      <th>Apricots</th>\n      <td>13.0</td>\n      <td>11.12</td>\n      <td>0.0</td>\n      <td>0.078</td>\n      <td>249.0</td>\n      <td>0.027</td>\n      <td>2.0</td>\n      <td>2.37</td>\n      <td>0.39</td>\n      <td>10.0</td>\n      <td>...</td>\n      <td>1.40</td>\n      <td>1.0</td>\n      <td>NaN</td>\n      <td>5.87</td>\n      <td>0.39</td>\n      <td>10.0</td>\n      <td>0.0</td>\n      <td>0.89</td>\n      <td>86.35</td>\n      <td>0.20</td>\n    </tr>\n    <tr>\n      <th>Arrowhead</th>\n      <td>10.0</td>\n      <td>20.23</td>\n      <td>0.0</td>\n      <td>0.171</td>\n      <td>513.0</td>\n      <td>NaN</td>\n      <td>NaN</td>\n      <td>NaN</td>\n      <td>2.57</td>\n      <td>51.0</td>\n      <td>...</td>\n      <td>5.33</td>\n      <td>22.0</td>\n      <td>NaN</td>\n      <td>NaN</td>\n      <td>0.29</td>\n      <td>1.1</td>\n      <td>0.0</td>\n      <td>NaN</td>\n      <td>72.48</td>\n      <td>0.28</td>\n    </tr>\n  </tbody>\n</table>\n<p>5 rows × 22 columns</p>\n</div>"
     },
     "metadata": {},
     "execution_count": 22
    }
   ],
   "source": [
    "filtered_df = new_fruits_df.groupby([\"Description\",\"Nutrient Name\"]).sum().squeeze().unstack()\n",
    "filtered_df.head()"
   ]
  },
  {
   "cell_type": "code",
   "execution_count": 25,
   "metadata": {},
   "outputs": [
    {
     "output_type": "execute_result",
     "data": {
      "text/plain": "Nutrient Name  Calcium, Ca  Carbohydrate, by difference  Cholesterol  \\\nDescription                                                            \nAbiyuch                8.0                        17.60          0.0   \nApple                  6.0                        13.81          0.0   \nApricot               13.0                        11.12          0.0   \nApricots              13.0                        11.12          0.0   \nArrowhead             10.0                        20.23          0.0   \n\nNutrient Name  Copper, Cu  Energy  Fatty acids, total saturated  \\\nDescription                                                       \nAbiyuch             0.057   359.0                         0.014   \nApple               0.027    52.0                         0.028   \nApricot             0.078    48.0                         0.027   \nApricots            0.078   249.0                         0.027   \nArrowhead           0.171   513.0                         0.000   \n\nNutrient Name  Fiber, total dietary  Glucose (dextrose)  Iron, Fe  \\\nDescription                                                         \nAbiyuch                         5.3                4.50      1.61   \nApple                           2.4                0.00      0.12   \nApricot                         2.0                0.00      0.39   \nApricots                        2.0                2.37      0.39   \nArrowhead                       0.0                0.00      2.57   \n\nNutrient Name  Magnesium, Mg  ...  Protein  Sodium, Na  Starch  Sucrose  \\\nDescription                   ...                                         \nAbiyuch                 24.0  ...     1.50        20.0     0.0     0.05   \nApple                    5.0  ...     0.26         1.0     0.0     0.00   \nApricot                 10.0  ...     1.40         1.0     0.0     0.00   \nApricots                10.0  ...     1.40         1.0     0.0     5.87   \nArrowhead               51.0  ...     5.33        22.0     0.0     0.00   \n\nNutrient Name  Total lipid (fat)  Vitamin C, total ascorbic acid  \\\nDescription                                                        \nAbiyuch                     0.10                            54.1   \nApple                       0.17                             4.6   \nApricot                     0.39                            10.0   \nApricots                    0.39                            10.0   \nArrowhead                   0.29                             1.1   \n\nNutrient Name  Vitamin D (D2 + D3)  Vitamin E (alpha-tocopherol)  Water  \\\nDescription                                                               \nAbiyuch                        0.0                          0.00  79.90   \nApple                          0.0                          0.18  85.56   \nApricot                        0.0                          0.89  86.35   \nApricots                       0.0                          0.89  86.35   \nArrowhead                      0.0                          0.00  72.48   \n\nNutrient Name  Zinc, Zn  \nDescription              \nAbiyuch            0.31  \nApple              0.04  \nApricot            0.20  \nApricots           0.20  \nArrowhead          0.28  \n\n[5 rows x 22 columns]",
      "text/html": "<div>\n<style scoped>\n    .dataframe tbody tr th:only-of-type {\n        vertical-align: middle;\n    }\n\n    .dataframe tbody tr th {\n        vertical-align: top;\n    }\n\n    .dataframe thead th {\n        text-align: right;\n    }\n</style>\n<table border=\"1\" class=\"dataframe\">\n  <thead>\n    <tr style=\"text-align: right;\">\n      <th>Nutrient Name</th>\n      <th>Calcium, Ca</th>\n      <th>Carbohydrate, by difference</th>\n      <th>Cholesterol</th>\n      <th>Copper, Cu</th>\n      <th>Energy</th>\n      <th>Fatty acids, total saturated</th>\n      <th>Fiber, total dietary</th>\n      <th>Glucose (dextrose)</th>\n      <th>Iron, Fe</th>\n      <th>Magnesium, Mg</th>\n      <th>...</th>\n      <th>Protein</th>\n      <th>Sodium, Na</th>\n      <th>Starch</th>\n      <th>Sucrose</th>\n      <th>Total lipid (fat)</th>\n      <th>Vitamin C, total ascorbic acid</th>\n      <th>Vitamin D (D2 + D3)</th>\n      <th>Vitamin E (alpha-tocopherol)</th>\n      <th>Water</th>\n      <th>Zinc, Zn</th>\n    </tr>\n    <tr>\n      <th>Description</th>\n      <th></th>\n      <th></th>\n      <th></th>\n      <th></th>\n      <th></th>\n      <th></th>\n      <th></th>\n      <th></th>\n      <th></th>\n      <th></th>\n      <th></th>\n      <th></th>\n      <th></th>\n      <th></th>\n      <th></th>\n      <th></th>\n      <th></th>\n      <th></th>\n      <th></th>\n      <th></th>\n      <th></th>\n    </tr>\n  </thead>\n  <tbody>\n    <tr>\n      <th>Abiyuch</th>\n      <td>8.0</td>\n      <td>17.60</td>\n      <td>0.0</td>\n      <td>0.057</td>\n      <td>359.0</td>\n      <td>0.014</td>\n      <td>5.3</td>\n      <td>4.50</td>\n      <td>1.61</td>\n      <td>24.0</td>\n      <td>...</td>\n      <td>1.50</td>\n      <td>20.0</td>\n      <td>0.0</td>\n      <td>0.05</td>\n      <td>0.10</td>\n      <td>54.1</td>\n      <td>0.0</td>\n      <td>0.00</td>\n      <td>79.90</td>\n      <td>0.31</td>\n    </tr>\n    <tr>\n      <th>Apple</th>\n      <td>6.0</td>\n      <td>13.81</td>\n      <td>0.0</td>\n      <td>0.027</td>\n      <td>52.0</td>\n      <td>0.028</td>\n      <td>2.4</td>\n      <td>0.00</td>\n      <td>0.12</td>\n      <td>5.0</td>\n      <td>...</td>\n      <td>0.26</td>\n      <td>1.0</td>\n      <td>0.0</td>\n      <td>0.00</td>\n      <td>0.17</td>\n      <td>4.6</td>\n      <td>0.0</td>\n      <td>0.18</td>\n      <td>85.56</td>\n      <td>0.04</td>\n    </tr>\n    <tr>\n      <th>Apricot</th>\n      <td>13.0</td>\n      <td>11.12</td>\n      <td>0.0</td>\n      <td>0.078</td>\n      <td>48.0</td>\n      <td>0.027</td>\n      <td>2.0</td>\n      <td>0.00</td>\n      <td>0.39</td>\n      <td>10.0</td>\n      <td>...</td>\n      <td>1.40</td>\n      <td>1.0</td>\n      <td>0.0</td>\n      <td>0.00</td>\n      <td>0.39</td>\n      <td>10.0</td>\n      <td>0.0</td>\n      <td>0.89</td>\n      <td>86.35</td>\n      <td>0.20</td>\n    </tr>\n    <tr>\n      <th>Apricots</th>\n      <td>13.0</td>\n      <td>11.12</td>\n      <td>0.0</td>\n      <td>0.078</td>\n      <td>249.0</td>\n      <td>0.027</td>\n      <td>2.0</td>\n      <td>2.37</td>\n      <td>0.39</td>\n      <td>10.0</td>\n      <td>...</td>\n      <td>1.40</td>\n      <td>1.0</td>\n      <td>0.0</td>\n      <td>5.87</td>\n      <td>0.39</td>\n      <td>10.0</td>\n      <td>0.0</td>\n      <td>0.89</td>\n      <td>86.35</td>\n      <td>0.20</td>\n    </tr>\n    <tr>\n      <th>Arrowhead</th>\n      <td>10.0</td>\n      <td>20.23</td>\n      <td>0.0</td>\n      <td>0.171</td>\n      <td>513.0</td>\n      <td>0.000</td>\n      <td>0.0</td>\n      <td>0.00</td>\n      <td>2.57</td>\n      <td>51.0</td>\n      <td>...</td>\n      <td>5.33</td>\n      <td>22.0</td>\n      <td>0.0</td>\n      <td>0.00</td>\n      <td>0.29</td>\n      <td>1.1</td>\n      <td>0.0</td>\n      <td>0.00</td>\n      <td>72.48</td>\n      <td>0.28</td>\n    </tr>\n  </tbody>\n</table>\n<p>5 rows × 22 columns</p>\n</div>"
     },
     "metadata": {},
     "execution_count": 25
    }
   ],
   "source": [
    "filtered_df = filtered_df.fillna(0)\n",
    "filtered_df.head()"
   ]
  },
  {
   "cell_type": "code",
   "execution_count": 21,
   "metadata": {},
   "outputs": [],
   "source": [
    "# filtered_df.to_csv(\"fruits_updated.csv\")"
   ]
  },
  {
   "cell_type": "markdown",
   "metadata": {},
   "source": [
    "# Use updated csv to clean up data somemore"
   ]
  },
  {
   "cell_type": "code",
   "execution_count": 27,
   "metadata": {
    "scrolled": true
   },
   "outputs": [
    {
     "output_type": "execute_result",
     "data": {
      "text/plain": "  Description  Calcium, Ca  Carbohydrate, by difference  Cholesterol  \\\n0     Abiyuch          8.0                        17.60          0.0   \n1       Apple          6.0                        13.81          0.0   \n2     Apricot         13.0                        11.12          0.0   \n3    Apricots         13.0                        11.12          0.0   \n4   Arrowhead         10.0                        20.23          0.0   \n\n   Copper, Cu  Energy  Fatty acids, total saturated  Fiber, total dietary  \\\n0       0.057   359.0                         0.014                   5.3   \n1       0.027    52.0                         0.028                   2.4   \n2       0.078    48.0                         0.027                   2.0   \n3       0.078   249.0                         0.027                   2.0   \n4       0.171   513.0                         0.000                   0.0   \n\n   Glucose (dextrose)  Iron, Fe  ...  Protein  Sodium, Na  Starch  Sucrose  \\\n0                4.50      1.61  ...     1.50        20.0     0.0     0.05   \n1                0.00      0.12  ...     0.26         1.0     0.0     0.00   \n2                0.00      0.39  ...     1.40         1.0     0.0     0.00   \n3                2.37      0.39  ...     1.40         1.0     0.0     5.87   \n4                0.00      2.57  ...     5.33        22.0     0.0     0.00   \n\n   Total lipid (fat)  Vitamin C, total ascorbic acid  Vitamin D (D2 + D3)  \\\n0               0.10                            54.1                  0.0   \n1               0.17                             4.6                  0.0   \n2               0.39                            10.0                  0.0   \n3               0.39                            10.0                  0.0   \n4               0.29                             1.1                  0.0   \n\n   Vitamin E (alpha-tocopherol)  Water  Zinc, Zn  \n0                          0.00  79.90      0.31  \n1                          0.18  85.56      0.04  \n2                          0.89  86.35      0.20  \n3                          0.89  86.35      0.20  \n4                          0.00  72.48      0.28  \n\n[5 rows x 23 columns]",
      "text/html": "<div>\n<style scoped>\n    .dataframe tbody tr th:only-of-type {\n        vertical-align: middle;\n    }\n\n    .dataframe tbody tr th {\n        vertical-align: top;\n    }\n\n    .dataframe thead th {\n        text-align: right;\n    }\n</style>\n<table border=\"1\" class=\"dataframe\">\n  <thead>\n    <tr style=\"text-align: right;\">\n      <th></th>\n      <th>Description</th>\n      <th>Calcium, Ca</th>\n      <th>Carbohydrate, by difference</th>\n      <th>Cholesterol</th>\n      <th>Copper, Cu</th>\n      <th>Energy</th>\n      <th>Fatty acids, total saturated</th>\n      <th>Fiber, total dietary</th>\n      <th>Glucose (dextrose)</th>\n      <th>Iron, Fe</th>\n      <th>...</th>\n      <th>Protein</th>\n      <th>Sodium, Na</th>\n      <th>Starch</th>\n      <th>Sucrose</th>\n      <th>Total lipid (fat)</th>\n      <th>Vitamin C, total ascorbic acid</th>\n      <th>Vitamin D (D2 + D3)</th>\n      <th>Vitamin E (alpha-tocopherol)</th>\n      <th>Water</th>\n      <th>Zinc, Zn</th>\n    </tr>\n  </thead>\n  <tbody>\n    <tr>\n      <th>0</th>\n      <td>Abiyuch</td>\n      <td>8.0</td>\n      <td>17.60</td>\n      <td>0.0</td>\n      <td>0.057</td>\n      <td>359.0</td>\n      <td>0.014</td>\n      <td>5.3</td>\n      <td>4.50</td>\n      <td>1.61</td>\n      <td>...</td>\n      <td>1.50</td>\n      <td>20.0</td>\n      <td>0.0</td>\n      <td>0.05</td>\n      <td>0.10</td>\n      <td>54.1</td>\n      <td>0.0</td>\n      <td>0.00</td>\n      <td>79.90</td>\n      <td>0.31</td>\n    </tr>\n    <tr>\n      <th>1</th>\n      <td>Apple</td>\n      <td>6.0</td>\n      <td>13.81</td>\n      <td>0.0</td>\n      <td>0.027</td>\n      <td>52.0</td>\n      <td>0.028</td>\n      <td>2.4</td>\n      <td>0.00</td>\n      <td>0.12</td>\n      <td>...</td>\n      <td>0.26</td>\n      <td>1.0</td>\n      <td>0.0</td>\n      <td>0.00</td>\n      <td>0.17</td>\n      <td>4.6</td>\n      <td>0.0</td>\n      <td>0.18</td>\n      <td>85.56</td>\n      <td>0.04</td>\n    </tr>\n    <tr>\n      <th>2</th>\n      <td>Apricot</td>\n      <td>13.0</td>\n      <td>11.12</td>\n      <td>0.0</td>\n      <td>0.078</td>\n      <td>48.0</td>\n      <td>0.027</td>\n      <td>2.0</td>\n      <td>0.00</td>\n      <td>0.39</td>\n      <td>...</td>\n      <td>1.40</td>\n      <td>1.0</td>\n      <td>0.0</td>\n      <td>0.00</td>\n      <td>0.39</td>\n      <td>10.0</td>\n      <td>0.0</td>\n      <td>0.89</td>\n      <td>86.35</td>\n      <td>0.20</td>\n    </tr>\n    <tr>\n      <th>3</th>\n      <td>Apricots</td>\n      <td>13.0</td>\n      <td>11.12</td>\n      <td>0.0</td>\n      <td>0.078</td>\n      <td>249.0</td>\n      <td>0.027</td>\n      <td>2.0</td>\n      <td>2.37</td>\n      <td>0.39</td>\n      <td>...</td>\n      <td>1.40</td>\n      <td>1.0</td>\n      <td>0.0</td>\n      <td>5.87</td>\n      <td>0.39</td>\n      <td>10.0</td>\n      <td>0.0</td>\n      <td>0.89</td>\n      <td>86.35</td>\n      <td>0.20</td>\n    </tr>\n    <tr>\n      <th>4</th>\n      <td>Arrowhead</td>\n      <td>10.0</td>\n      <td>20.23</td>\n      <td>0.0</td>\n      <td>0.171</td>\n      <td>513.0</td>\n      <td>0.000</td>\n      <td>0.0</td>\n      <td>0.00</td>\n      <td>2.57</td>\n      <td>...</td>\n      <td>5.33</td>\n      <td>22.0</td>\n      <td>0.0</td>\n      <td>0.00</td>\n      <td>0.29</td>\n      <td>1.1</td>\n      <td>0.0</td>\n      <td>0.00</td>\n      <td>72.48</td>\n      <td>0.28</td>\n    </tr>\n  </tbody>\n</table>\n<p>5 rows × 23 columns</p>\n</div>"
     },
     "metadata": {},
     "execution_count": 27
    }
   ],
   "source": [
    "path = \"fruits_updated.csv\"\n",
    "fruits_df = pd.read_csv(path)\n",
    "fruits_df.head()"
   ]
  },
  {
   "cell_type": "code",
   "execution_count": 28,
   "metadata": {
    "scrolled": true
   },
   "outputs": [
    {
     "output_type": "execute_result",
     "data": {
      "text/plain": "Index(['Description', 'Calcium, Ca', 'Carbohydrate, by difference',\n       'Cholesterol', 'Copper, Cu', 'Energy', 'Fatty acids, total saturated',\n       'Fiber, total dietary', 'Glucose (dextrose)', 'Iron, Fe',\n       'Magnesium, Mg', 'Phosphorus, P', 'Potassium, K', 'Protein',\n       'Sodium, Na', 'Starch', 'Sucrose', 'Total lipid (fat)',\n       'Vitamin C, total ascorbic acid', 'Vitamin D (D2 + D3)',\n       'Vitamin E (alpha-tocopherol)', 'Water', 'Zinc, Zn'],\n      dtype='object')"
     },
     "metadata": {},
     "execution_count": 28
    }
   ],
   "source": [
    "fruits_df.columns"
   ]
  },
  {
   "cell_type": "code",
   "execution_count": 42,
   "metadata": {},
   "outputs": [
    {
     "output_type": "execute_result",
     "data": {
      "text/plain": "  Description  Calcium (mg)  Carbohydrate (g)  Cholesterol  Copper (mg)  \\\n0     Abiyuch           8.0             17.60          0.0        0.057   \n1       Apple           6.0             13.81          0.0        0.027   \n2     Apricot          13.0             11.12          0.0        0.078   \n3    Apricots          13.0             11.12          0.0        0.078   \n4   Arrowhead          10.0             20.23          0.0        0.171   \n\n   Energy (kcal)  Saturated_fat (g)  Fiber total dietary (g)  Glucose (g)  \\\n0          359.0              0.014                      5.3         4.50   \n1           52.0              0.028                      2.4         0.00   \n2           48.0              0.027                      2.0         0.00   \n3          249.0              0.027                      2.0         2.37   \n4          513.0              0.000                      0.0         0.00   \n\n   Iron (mg)  ...  Protein (g)  Sodium (mg)  Starch (g)  Sucrose (g)  \\\n0       1.61  ...         1.50         20.0         0.0         0.05   \n1       0.12  ...         0.26          1.0         0.0         0.00   \n2       0.39  ...         1.40          1.0         0.0         0.00   \n3       0.39  ...         1.40          1.0         0.0         5.87   \n4       2.57  ...         5.33         22.0         0.0         0.00   \n\n   Total Fat (g)  Vitamin C (mg)  Vitamin D (ug)  Vitamin E (mg)  Water (g)  \\\n0           0.10            54.1             0.0            0.00      79.90   \n1           0.17             4.6             0.0            0.18      85.56   \n2           0.39            10.0             0.0            0.89      86.35   \n3           0.39            10.0             0.0            0.89      86.35   \n4           0.29             1.1             0.0            0.00      72.48   \n\n   Zinc  \n0  0.31  \n1  0.04  \n2  0.20  \n3  0.20  \n4  0.28  \n\n[5 rows x 23 columns]",
      "text/html": "<div>\n<style scoped>\n    .dataframe tbody tr th:only-of-type {\n        vertical-align: middle;\n    }\n\n    .dataframe tbody tr th {\n        vertical-align: top;\n    }\n\n    .dataframe thead th {\n        text-align: right;\n    }\n</style>\n<table border=\"1\" class=\"dataframe\">\n  <thead>\n    <tr style=\"text-align: right;\">\n      <th></th>\n      <th>Description</th>\n      <th>Calcium (mg)</th>\n      <th>Carbohydrate (g)</th>\n      <th>Cholesterol</th>\n      <th>Copper (mg)</th>\n      <th>Energy (kcal)</th>\n      <th>Saturated_fat (g)</th>\n      <th>Fiber total dietary (g)</th>\n      <th>Glucose (g)</th>\n      <th>Iron (mg)</th>\n      <th>...</th>\n      <th>Protein (g)</th>\n      <th>Sodium (mg)</th>\n      <th>Starch (g)</th>\n      <th>Sucrose (g)</th>\n      <th>Total Fat (g)</th>\n      <th>Vitamin C (mg)</th>\n      <th>Vitamin D (ug)</th>\n      <th>Vitamin E (mg)</th>\n      <th>Water (g)</th>\n      <th>Zinc</th>\n    </tr>\n  </thead>\n  <tbody>\n    <tr>\n      <th>0</th>\n      <td>Abiyuch</td>\n      <td>8.0</td>\n      <td>17.60</td>\n      <td>0.0</td>\n      <td>0.057</td>\n      <td>359.0</td>\n      <td>0.014</td>\n      <td>5.3</td>\n      <td>4.50</td>\n      <td>1.61</td>\n      <td>...</td>\n      <td>1.50</td>\n      <td>20.0</td>\n      <td>0.0</td>\n      <td>0.05</td>\n      <td>0.10</td>\n      <td>54.1</td>\n      <td>0.0</td>\n      <td>0.00</td>\n      <td>79.90</td>\n      <td>0.31</td>\n    </tr>\n    <tr>\n      <th>1</th>\n      <td>Apple</td>\n      <td>6.0</td>\n      <td>13.81</td>\n      <td>0.0</td>\n      <td>0.027</td>\n      <td>52.0</td>\n      <td>0.028</td>\n      <td>2.4</td>\n      <td>0.00</td>\n      <td>0.12</td>\n      <td>...</td>\n      <td>0.26</td>\n      <td>1.0</td>\n      <td>0.0</td>\n      <td>0.00</td>\n      <td>0.17</td>\n      <td>4.6</td>\n      <td>0.0</td>\n      <td>0.18</td>\n      <td>85.56</td>\n      <td>0.04</td>\n    </tr>\n    <tr>\n      <th>2</th>\n      <td>Apricot</td>\n      <td>13.0</td>\n      <td>11.12</td>\n      <td>0.0</td>\n      <td>0.078</td>\n      <td>48.0</td>\n      <td>0.027</td>\n      <td>2.0</td>\n      <td>0.00</td>\n      <td>0.39</td>\n      <td>...</td>\n      <td>1.40</td>\n      <td>1.0</td>\n      <td>0.0</td>\n      <td>0.00</td>\n      <td>0.39</td>\n      <td>10.0</td>\n      <td>0.0</td>\n      <td>0.89</td>\n      <td>86.35</td>\n      <td>0.20</td>\n    </tr>\n    <tr>\n      <th>3</th>\n      <td>Apricots</td>\n      <td>13.0</td>\n      <td>11.12</td>\n      <td>0.0</td>\n      <td>0.078</td>\n      <td>249.0</td>\n      <td>0.027</td>\n      <td>2.0</td>\n      <td>2.37</td>\n      <td>0.39</td>\n      <td>...</td>\n      <td>1.40</td>\n      <td>1.0</td>\n      <td>0.0</td>\n      <td>5.87</td>\n      <td>0.39</td>\n      <td>10.0</td>\n      <td>0.0</td>\n      <td>0.89</td>\n      <td>86.35</td>\n      <td>0.20</td>\n    </tr>\n    <tr>\n      <th>4</th>\n      <td>Arrowhead</td>\n      <td>10.0</td>\n      <td>20.23</td>\n      <td>0.0</td>\n      <td>0.171</td>\n      <td>513.0</td>\n      <td>0.000</td>\n      <td>0.0</td>\n      <td>0.00</td>\n      <td>2.57</td>\n      <td>...</td>\n      <td>5.33</td>\n      <td>22.0</td>\n      <td>0.0</td>\n      <td>0.00</td>\n      <td>0.29</td>\n      <td>1.1</td>\n      <td>0.0</td>\n      <td>0.00</td>\n      <td>72.48</td>\n      <td>0.28</td>\n    </tr>\n  </tbody>\n</table>\n<p>5 rows × 23 columns</p>\n</div>"
     },
     "metadata": {},
     "execution_count": 42
    }
   ],
   "source": [
    "fruits_df = fruits_df.rename(columns={\"Calcium, Ca\": \"Calcium (mg)\",\n",
    "                                      \"Carbohydrate, by difference\": \"Carbohydrate (g)\",\n",
    "                                      \"Copper, Cu\": \"Copper (mg)\",\n",
    "                                      \"Energy\": \"Energy (kcal)\",\n",
    "                                      \"Fatty acids, total saturated\": \"Saturated_fat (g)\",\n",
    "                                      \"Fiber, total dietary\": \"Fiber total dietary (g)\",\n",
    "                                      \"Glucose (dextrose)\": \"Glucose (g)\",\n",
    "                                      \"Iron, Fe\": \"Iron (mg)\",\n",
    "                                      \"Magnesium, Mg\": \"Magnesium (mg)\",\n",
    "                                      \"Phosphorus, P\": \"Phosphorus (mg)\",\n",
    "                                      \"Potassium, K\": \"Potassium (mg)\",\n",
    "                                      \"Protein\": \"Protein (g)\",\n",
    "                                      \"Sodium, Na\": \"Sodium (mg)\",\n",
    "                                      \"Total lipid (fat)\": \"Total Fat (g)\",\n",
    "                                      \"Vitamin C, total ascorbic acid\": \"Vitamin C (mg)\",\n",
    "                                      \"Vitamin D (D2 + D3)\": \"Vitamin D (ug)\",\n",
    "                                      \"Vitamin E (alpha-tocopherol)\": \"Vitamin E (mg)\",\n",
    "                                      \"Zinc, Zn\": \"Zinc\",\n",
    "                                      \"Water\": \"Water (g)\",\n",
    "                                      \"Sucrose\": \"Sucrose (g)\",\n",
    "                                      \"Starch\": \"Starch (g)\",\n",
    "                                      \"Zinc, Zn\": \"Zinc (mg)\"\n",
    "                                     })\n",
    "\n",
    "fruits_df.head()"
   ]
  },
  {
   "cell_type": "code",
   "execution_count": 39,
   "metadata": {},
   "outputs": [],
   "source": [
    "# fruits_df.to_csv(\"fruits_1.csv\",index=False)"
   ]
  },
  {
   "cell_type": "code",
   "execution_count": 4,
   "metadata": {},
   "outputs": [],
   "source": [
    "# Merge both file"
   ]
  },
  {
   "cell_type": "code",
   "execution_count": 49,
   "metadata": {},
   "outputs": [],
   "source": [
    "import pandas as pd"
   ]
  },
  {
   "cell_type": "code",
   "execution_count": 50,
   "metadata": {},
   "outputs": [
    {
     "output_type": "execute_result",
     "data": {
      "text/plain": "  Food_description        Food_type  ...  Water (g)  Zinc (mg)\n0          Abiyuch       Vegetables  ...      79.90       0.31\n1            Apple           Fruits  ...      85.56       0.04\n2          Apricot           Fruits  ...      86.35       0.20\n3        Arrowroot  Root Vegetables  ...      80.75       0.63\n4          Arugula       Vegetables  ...      91.71       0.47\n\n[5 rows x 23 columns]",
      "text/html": "<div>\n<style scoped>\n    .dataframe tbody tr th:only-of-type {\n        vertical-align: middle;\n    }\n\n    .dataframe tbody tr th {\n        vertical-align: top;\n    }\n\n    .dataframe thead th {\n        text-align: right;\n    }\n</style>\n<table border=\"1\" class=\"dataframe\">\n  <thead>\n    <tr style=\"text-align: right;\">\n      <th></th>\n      <th>Food_description</th>\n      <th>Food_type</th>\n      <th>Calcium (mg)</th>\n      <th>Carbohydrate (g)</th>\n      <th>Cholesterol</th>\n      <th>Copper (mg)</th>\n      <th>Energy (kcal)</th>\n      <th>Saturated_fat (g)</th>\n      <th>Fiber total dietary (g)</th>\n      <th>Glucose (g)</th>\n      <th>Iron (mg)</th>\n      <th>Magnesium (mg)</th>\n      <th>Phosphorus (mg)</th>\n      <th>Potassium (mg)</th>\n      <th>Protein (g)</th>\n      <th>Sodium (mg)</th>\n      <th>Sugar (g)</th>\n      <th>Total Fat (g)</th>\n      <th>Vitamin C (mg)</th>\n      <th>Vitamin D (ug)</th>\n      <th>Vitamin E (mg)</th>\n      <th>Water (g)</th>\n      <th>Zinc (mg)</th>\n    </tr>\n  </thead>\n  <tbody>\n    <tr>\n      <th>0</th>\n      <td>Abiyuch</td>\n      <td>Vegetables</td>\n      <td>8</td>\n      <td>17.60</td>\n      <td>0</td>\n      <td>0.057</td>\n      <td>359</td>\n      <td>0.014</td>\n      <td>5.3</td>\n      <td>4.5</td>\n      <td>1.61</td>\n      <td>24</td>\n      <td>47</td>\n      <td>304</td>\n      <td>1.50</td>\n      <td>20</td>\n      <td>8.55</td>\n      <td>0.10</td>\n      <td>54.1</td>\n      <td>0</td>\n      <td>0.00</td>\n      <td>79.90</td>\n      <td>0.31</td>\n    </tr>\n    <tr>\n      <th>1</th>\n      <td>Apple</td>\n      <td>Fruits</td>\n      <td>6</td>\n      <td>13.81</td>\n      <td>0</td>\n      <td>0.027</td>\n      <td>52</td>\n      <td>0.028</td>\n      <td>2.4</td>\n      <td>0.0</td>\n      <td>0.12</td>\n      <td>5</td>\n      <td>11</td>\n      <td>107</td>\n      <td>0.26</td>\n      <td>1</td>\n      <td>10.39</td>\n      <td>0.17</td>\n      <td>4.6</td>\n      <td>0</td>\n      <td>0.18</td>\n      <td>85.56</td>\n      <td>0.04</td>\n    </tr>\n    <tr>\n      <th>2</th>\n      <td>Apricot</td>\n      <td>Fruits</td>\n      <td>13</td>\n      <td>11.12</td>\n      <td>0</td>\n      <td>0.078</td>\n      <td>48</td>\n      <td>0.027</td>\n      <td>2.0</td>\n      <td>0.0</td>\n      <td>0.39</td>\n      <td>10</td>\n      <td>23</td>\n      <td>259</td>\n      <td>1.40</td>\n      <td>1</td>\n      <td>9.24</td>\n      <td>0.39</td>\n      <td>10.0</td>\n      <td>0</td>\n      <td>0.89</td>\n      <td>86.35</td>\n      <td>0.20</td>\n    </tr>\n    <tr>\n      <th>3</th>\n      <td>Arrowroot</td>\n      <td>Root Vegetables</td>\n      <td>6</td>\n      <td>13.39</td>\n      <td>0</td>\n      <td>0.121</td>\n      <td>336</td>\n      <td>0.039</td>\n      <td>1.3</td>\n      <td>0.0</td>\n      <td>2.22</td>\n      <td>25</td>\n      <td>98</td>\n      <td>454</td>\n      <td>4.24</td>\n      <td>26</td>\n      <td>0.00</td>\n      <td>0.20</td>\n      <td>1.9</td>\n      <td>0</td>\n      <td>0.00</td>\n      <td>80.75</td>\n      <td>0.63</td>\n    </tr>\n    <tr>\n      <th>4</th>\n      <td>Arugula</td>\n      <td>Vegetables</td>\n      <td>160</td>\n      <td>3.65</td>\n      <td>0</td>\n      <td>0.076</td>\n      <td>130</td>\n      <td>0.086</td>\n      <td>1.6</td>\n      <td>0.0</td>\n      <td>1.46</td>\n      <td>47</td>\n      <td>52</td>\n      <td>369</td>\n      <td>2.58</td>\n      <td>27</td>\n      <td>2.05</td>\n      <td>0.66</td>\n      <td>15.0</td>\n      <td>0</td>\n      <td>0.43</td>\n      <td>91.71</td>\n      <td>0.47</td>\n    </tr>\n  </tbody>\n</table>\n</div>"
     },
     "metadata": {},
     "execution_count": 50
    }
   ],
   "source": [
    "file_1 = \"fruits_veggies.csv\"\n",
    "file_2 = \"fruits_veggies_1.csv\"\n",
    "\n",
    "fruits_veggies = pd.read_csv(file_1)\n",
    "fruits_veggies_1 = pd.read_csv(file_2)\n",
    "\n",
    "fruits_veggies.head()"
   ]
  },
  {
   "cell_type": "code",
   "execution_count": 51,
   "metadata": {},
   "outputs": [],
   "source": [
    "fruits_veggies = fruits_veggies.rename(columns={\"Cholesterol\": \"Cholesterol (mg)\"})"
   ]
  },
  {
   "cell_type": "code",
   "execution_count": 52,
   "metadata": {},
   "outputs": [
    {
     "output_type": "execute_result",
     "data": {
      "text/plain": "Index(['Food_description', 'Food_type', 'Calcium (mg)', 'Carbohydrate (g)',\n       'Cholesterol (mg)', 'Copper (mg)', 'Energy (kcal)', 'Saturated_fat (g)',\n       'Fiber total dietary (g)', 'Glucose (g)', 'Iron (mg)', 'Magnesium (mg)',\n       'Phosphorus (mg)', 'Potassium (mg)', 'Protein (g)', 'Sodium (mg)',\n       'Sugar (g)', 'Total Fat (g)', 'Vitamin C (mg)', 'Vitamin D (ug)',\n       'Vitamin E (mg)', 'Water (g)', 'Zinc (mg)'],\n      dtype='object')"
     },
     "metadata": {},
     "execution_count": 52
    }
   ],
   "source": [
    "fruits_veggies.columns"
   ]
  },
  {
   "cell_type": "code",
   "execution_count": 53,
   "metadata": {},
   "outputs": [
    {
     "output_type": "execute_result",
     "data": {
      "text/plain": "  Food_description        Food_type  ...  Water (g)  Zinc (mg)\n0          Abiyuch       Vegetables  ...      79.90       0.31\n1            Apple           Fruits  ...      85.56       0.04\n2          Apricot           Fruits  ...      86.35       0.20\n3        Arrowroot  Root Vegetables  ...      80.75       0.63\n4          Arugula       Vegetables  ...      91.71       0.47\n\n[5 rows x 22 columns]",
      "text/html": "<div>\n<style scoped>\n    .dataframe tbody tr th:only-of-type {\n        vertical-align: middle;\n    }\n\n    .dataframe tbody tr th {\n        vertical-align: top;\n    }\n\n    .dataframe thead th {\n        text-align: right;\n    }\n</style>\n<table border=\"1\" class=\"dataframe\">\n  <thead>\n    <tr style=\"text-align: right;\">\n      <th></th>\n      <th>Food_description</th>\n      <th>Food_type</th>\n      <th>Calcium (mg)</th>\n      <th>Carbohydrate (g)</th>\n      <th>Cholesterol (mg)</th>\n      <th>Copper (mg)</th>\n      <th>Energy (kcal)</th>\n      <th>Saturated_fat (g)</th>\n      <th>Fiber total dietary (g)</th>\n      <th>Iron (mg)</th>\n      <th>Magnesium (mg)</th>\n      <th>Phosphorus (mg)</th>\n      <th>Potassium (mg)</th>\n      <th>Protein (g)</th>\n      <th>Sodium (mg)</th>\n      <th>Sugar (g)</th>\n      <th>Total Fat (g)</th>\n      <th>Vitamin C (mg)</th>\n      <th>Vitamin D (ug)</th>\n      <th>Vitamin E (mg)</th>\n      <th>Water (g)</th>\n      <th>Zinc (mg)</th>\n    </tr>\n  </thead>\n  <tbody>\n    <tr>\n      <th>0</th>\n      <td>Abiyuch</td>\n      <td>Vegetables</td>\n      <td>8</td>\n      <td>17.60</td>\n      <td>0</td>\n      <td>0.057</td>\n      <td>359</td>\n      <td>0.014</td>\n      <td>5.3</td>\n      <td>1.61</td>\n      <td>24</td>\n      <td>47</td>\n      <td>304</td>\n      <td>1.50</td>\n      <td>20</td>\n      <td>8.55</td>\n      <td>0.10</td>\n      <td>54.1</td>\n      <td>0</td>\n      <td>0.00</td>\n      <td>79.90</td>\n      <td>0.31</td>\n    </tr>\n    <tr>\n      <th>1</th>\n      <td>Apple</td>\n      <td>Fruits</td>\n      <td>6</td>\n      <td>13.81</td>\n      <td>0</td>\n      <td>0.027</td>\n      <td>52</td>\n      <td>0.028</td>\n      <td>2.4</td>\n      <td>0.12</td>\n      <td>5</td>\n      <td>11</td>\n      <td>107</td>\n      <td>0.26</td>\n      <td>1</td>\n      <td>10.39</td>\n      <td>0.17</td>\n      <td>4.6</td>\n      <td>0</td>\n      <td>0.18</td>\n      <td>85.56</td>\n      <td>0.04</td>\n    </tr>\n    <tr>\n      <th>2</th>\n      <td>Apricot</td>\n      <td>Fruits</td>\n      <td>13</td>\n      <td>11.12</td>\n      <td>0</td>\n      <td>0.078</td>\n      <td>48</td>\n      <td>0.027</td>\n      <td>2.0</td>\n      <td>0.39</td>\n      <td>10</td>\n      <td>23</td>\n      <td>259</td>\n      <td>1.40</td>\n      <td>1</td>\n      <td>9.24</td>\n      <td>0.39</td>\n      <td>10.0</td>\n      <td>0</td>\n      <td>0.89</td>\n      <td>86.35</td>\n      <td>0.20</td>\n    </tr>\n    <tr>\n      <th>3</th>\n      <td>Arrowroot</td>\n      <td>Root Vegetables</td>\n      <td>6</td>\n      <td>13.39</td>\n      <td>0</td>\n      <td>0.121</td>\n      <td>336</td>\n      <td>0.039</td>\n      <td>1.3</td>\n      <td>2.22</td>\n      <td>25</td>\n      <td>98</td>\n      <td>454</td>\n      <td>4.24</td>\n      <td>26</td>\n      <td>0.00</td>\n      <td>0.20</td>\n      <td>1.9</td>\n      <td>0</td>\n      <td>0.00</td>\n      <td>80.75</td>\n      <td>0.63</td>\n    </tr>\n    <tr>\n      <th>4</th>\n      <td>Arugula</td>\n      <td>Vegetables</td>\n      <td>160</td>\n      <td>3.65</td>\n      <td>0</td>\n      <td>0.076</td>\n      <td>130</td>\n      <td>0.086</td>\n      <td>1.6</td>\n      <td>1.46</td>\n      <td>47</td>\n      <td>52</td>\n      <td>369</td>\n      <td>2.58</td>\n      <td>27</td>\n      <td>2.05</td>\n      <td>0.66</td>\n      <td>15.0</td>\n      <td>0</td>\n      <td>0.43</td>\n      <td>91.71</td>\n      <td>0.47</td>\n    </tr>\n  </tbody>\n</table>\n</div>"
     },
     "metadata": {},
     "execution_count": 53
    }
   ],
   "source": [
    "fruits_veggies = fruits_veggies.drop(columns=[\"Glucose (g)\"])\n",
    "fruits_veggies.head()\n",
    "\n",
    "\n",
    "\n",
    "                            (new_df[\"Nutrient Name\"] == \"Vitamin A, RAE\") |\n",
    "                           (new_df[\"Nutrient Name\"] == \"Vitamin B-6\") |\n",
    "                           (new_df[\"Nutrient Name\"] == \"Vitamin B-12\") |\n",
    "                           (new_df[\"Nutrient Name\"] == \"Sugars, total including NLEA\") |"
   ]
  },
  {
   "cell_type": "code",
   "execution_count": 54,
   "metadata": {},
   "outputs": [
    {
     "output_type": "execute_result",
     "data": {
      "text/plain": "  Food_description        Food_type  ...  Saturated_fat (g)  Fiber total dietary (g)\n0          Abiyuch       Vegetables  ...              0.014                      5.3\n1            Apple           Fruits  ...              0.028                      2.4\n2          Apricot           Fruits  ...              0.027                      2.0\n3        Arrowroot  Root Vegetables  ...              0.039                      1.3\n4          Arugula       Vegetables  ...              0.086                      1.6\n\n[5 rows x 22 columns]",
      "text/html": "<div>\n<style scoped>\n    .dataframe tbody tr th:only-of-type {\n        vertical-align: middle;\n    }\n\n    .dataframe tbody tr th {\n        vertical-align: top;\n    }\n\n    .dataframe thead th {\n        text-align: right;\n    }\n</style>\n<table border=\"1\" class=\"dataframe\">\n  <thead>\n    <tr style=\"text-align: right;\">\n      <th></th>\n      <th>Food_description</th>\n      <th>Food_type</th>\n      <th>Energy (kcal)</th>\n      <th>Water (g)</th>\n      <th>Sugar (g)</th>\n      <th>Vitamin C (mg)</th>\n      <th>Calcium (mg)</th>\n      <th>Carbohydrate (g)</th>\n      <th>Cholesterol (mg)</th>\n      <th>Protein (g)</th>\n      <th>Sodium (mg)</th>\n      <th>Vitamin D (ug)</th>\n      <th>Vitamin E (mg)</th>\n      <th>Copper (mg)</th>\n      <th>Iron (mg)</th>\n      <th>Magnesium (mg)</th>\n      <th>Phosphorus (mg)</th>\n      <th>Potassium (mg)</th>\n      <th>Zinc (mg)</th>\n      <th>Total Fat (g)</th>\n      <th>Saturated_fat (g)</th>\n      <th>Fiber total dietary (g)</th>\n    </tr>\n  </thead>\n  <tbody>\n    <tr>\n      <th>0</th>\n      <td>Abiyuch</td>\n      <td>Vegetables</td>\n      <td>359</td>\n      <td>79.90</td>\n      <td>8.55</td>\n      <td>54.1</td>\n      <td>8</td>\n      <td>17.60</td>\n      <td>0</td>\n      <td>1.50</td>\n      <td>20</td>\n      <td>0</td>\n      <td>0.00</td>\n      <td>0.057</td>\n      <td>1.61</td>\n      <td>24</td>\n      <td>47</td>\n      <td>304</td>\n      <td>0.31</td>\n      <td>0.10</td>\n      <td>0.014</td>\n      <td>5.3</td>\n    </tr>\n    <tr>\n      <th>1</th>\n      <td>Apple</td>\n      <td>Fruits</td>\n      <td>52</td>\n      <td>85.56</td>\n      <td>10.39</td>\n      <td>4.6</td>\n      <td>6</td>\n      <td>13.81</td>\n      <td>0</td>\n      <td>0.26</td>\n      <td>1</td>\n      <td>0</td>\n      <td>0.18</td>\n      <td>0.027</td>\n      <td>0.12</td>\n      <td>5</td>\n      <td>11</td>\n      <td>107</td>\n      <td>0.04</td>\n      <td>0.17</td>\n      <td>0.028</td>\n      <td>2.4</td>\n    </tr>\n    <tr>\n      <th>2</th>\n      <td>Apricot</td>\n      <td>Fruits</td>\n      <td>48</td>\n      <td>86.35</td>\n      <td>9.24</td>\n      <td>10.0</td>\n      <td>13</td>\n      <td>11.12</td>\n      <td>0</td>\n      <td>1.40</td>\n      <td>1</td>\n      <td>0</td>\n      <td>0.89</td>\n      <td>0.078</td>\n      <td>0.39</td>\n      <td>10</td>\n      <td>23</td>\n      <td>259</td>\n      <td>0.20</td>\n      <td>0.39</td>\n      <td>0.027</td>\n      <td>2.0</td>\n    </tr>\n    <tr>\n      <th>3</th>\n      <td>Arrowroot</td>\n      <td>Root Vegetables</td>\n      <td>336</td>\n      <td>80.75</td>\n      <td>0.00</td>\n      <td>1.9</td>\n      <td>6</td>\n      <td>13.39</td>\n      <td>0</td>\n      <td>4.24</td>\n      <td>26</td>\n      <td>0</td>\n      <td>0.00</td>\n      <td>0.121</td>\n      <td>2.22</td>\n      <td>25</td>\n      <td>98</td>\n      <td>454</td>\n      <td>0.63</td>\n      <td>0.20</td>\n      <td>0.039</td>\n      <td>1.3</td>\n    </tr>\n    <tr>\n      <th>4</th>\n      <td>Arugula</td>\n      <td>Vegetables</td>\n      <td>130</td>\n      <td>91.71</td>\n      <td>2.05</td>\n      <td>15.0</td>\n      <td>160</td>\n      <td>3.65</td>\n      <td>0</td>\n      <td>2.58</td>\n      <td>27</td>\n      <td>0</td>\n      <td>0.43</td>\n      <td>0.076</td>\n      <td>1.46</td>\n      <td>47</td>\n      <td>52</td>\n      <td>369</td>\n      <td>0.47</td>\n      <td>0.66</td>\n      <td>0.086</td>\n      <td>1.6</td>\n    </tr>\n  </tbody>\n</table>\n</div>"
     },
     "metadata": {},
     "execution_count": 54
    }
   ],
   "source": [
    "#organize columns for easy merge\n",
    "fruits_veggies = fruits_veggies[['Food_description', 'Food_type', 'Energy (kcal)', 'Water (g)', 'Sugar (g)', 'Vitamin C (mg)', 'Calcium (mg)', 'Carbohydrate (g)',\n",
    "       'Cholesterol (mg)', 'Protein (g)', 'Sodium (mg)', 'Vitamin D (ug)', \n",
    "       'Vitamin E (mg)', 'Copper (mg)', 'Iron (mg)', 'Magnesium (mg)', \n",
    "       'Phosphorus (mg)', 'Potassium (mg)', 'Zinc (mg)', 'Total Fat (g)', \n",
    "       'Saturated_fat (g)','Fiber total dietary (g)'\n",
    "        ]]\n",
    "        \n",
    "fruits_veggies.head()"
   ]
  },
  {
   "cell_type": "code",
   "execution_count": 55,
   "metadata": {},
   "outputs": [],
   "source": [
    "fruits_veggies.to_csv(\"new_fruits_veggies.csv\",index=False)"
   ]
  },
  {
   "cell_type": "code",
   "execution_count": 56,
   "metadata": {},
   "outputs": [],
   "source": [
    "# 2nd file"
   ]
  },
  {
   "cell_type": "code",
   "execution_count": 57,
   "metadata": {},
   "outputs": [
    {
     "output_type": "execute_result",
     "data": {
      "text/plain": "Index(['Food_description', 'Food_type', 'Energy (kcal)', 'Protein (g)',\n       'Carbohydrate (g)', 'Sugars(g)', 'Fiber, total dietary (g)',\n       'Total Fat (g)', 'Saturated_fat', 'Cholesterol (mg)', 'Vitamin C (mg)',\n       'Vitamin_D (mcg)', 'Vitamin_E (mg)', 'Calcium (mg)', 'Magnesium (mg)',\n       'Iron (mg)', 'Potassium (mg)', 'Sodium (mg)', 'Caffeine (mg)',\n       'Copper (mg)', 'Phosphorus (mg)', 'Water (g)', 'Zinc (mg)'],\n      dtype='object')"
     },
     "metadata": {},
     "execution_count": 57
    }
   ],
   "source": [
    "fruits_veggies_1.columns"
   ]
  },
  {
   "cell_type": "code",
   "execution_count": 58,
   "metadata": {},
   "outputs": [
    {
     "output_type": "execute_result",
     "data": {
      "text/plain": "  Food_description      Food_type  ...  Water (g)  Zinc (mg)\n0           Apple          Apples  ...      85.56       0.04\n1          Banana         Bananas  ...      74.91       0.15\n2      Clementine   Citrus fruits  ...      85.17       0.07\n3      Grapefruit   Citrus fruits  ...      88.06       0.07\n4         Kumquat   Citrus fruits  ...      80.85       0.17\n\n[5 rows x 22 columns]",
      "text/html": "<div>\n<style scoped>\n    .dataframe tbody tr th:only-of-type {\n        vertical-align: middle;\n    }\n\n    .dataframe tbody tr th {\n        vertical-align: top;\n    }\n\n    .dataframe thead th {\n        text-align: right;\n    }\n</style>\n<table border=\"1\" class=\"dataframe\">\n  <thead>\n    <tr style=\"text-align: right;\">\n      <th></th>\n      <th>Food_description</th>\n      <th>Food_type</th>\n      <th>Energy (kcal)</th>\n      <th>Protein (g)</th>\n      <th>Carbohydrate (g)</th>\n      <th>Sugars(g)</th>\n      <th>Fiber, total dietary (g)</th>\n      <th>Total Fat (g)</th>\n      <th>Saturated_fat</th>\n      <th>Cholesterol (mg)</th>\n      <th>Vitamin C (mg)</th>\n      <th>Vitamin_D (mcg)</th>\n      <th>Vitamin_E (mg)</th>\n      <th>Calcium (mg)</th>\n      <th>Magnesium (mg)</th>\n      <th>Iron (mg)</th>\n      <th>Potassium (mg)</th>\n      <th>Sodium (mg)</th>\n      <th>Copper (mg)</th>\n      <th>Phosphorus (mg)</th>\n      <th>Water (g)</th>\n      <th>Zinc (mg)</th>\n    </tr>\n  </thead>\n  <tbody>\n    <tr>\n      <th>0</th>\n      <td>Apple</td>\n      <td>Apples</td>\n      <td>52</td>\n      <td>0.26</td>\n      <td>13.81</td>\n      <td>10.39</td>\n      <td>2.4</td>\n      <td>0.17</td>\n      <td>0.028</td>\n      <td>0</td>\n      <td>4.6</td>\n      <td>0.0</td>\n      <td>0.18</td>\n      <td>6</td>\n      <td>5</td>\n      <td>0.12</td>\n      <td>107</td>\n      <td>1</td>\n      <td>0.027</td>\n      <td>11</td>\n      <td>85.56</td>\n      <td>0.04</td>\n    </tr>\n    <tr>\n      <th>1</th>\n      <td>Banana</td>\n      <td>Bananas</td>\n      <td>89</td>\n      <td>1.09</td>\n      <td>22.84</td>\n      <td>12.23</td>\n      <td>2.6</td>\n      <td>0.33</td>\n      <td>0.112</td>\n      <td>0</td>\n      <td>8.7</td>\n      <td>0.0</td>\n      <td>0.10</td>\n      <td>5</td>\n      <td>27</td>\n      <td>0.26</td>\n      <td>358</td>\n      <td>1</td>\n      <td>0.078</td>\n      <td>22</td>\n      <td>74.91</td>\n      <td>0.15</td>\n    </tr>\n    <tr>\n      <th>2</th>\n      <td>Clementine</td>\n      <td>Citrus fruits</td>\n      <td>53</td>\n      <td>0.81</td>\n      <td>13.34</td>\n      <td>10.58</td>\n      <td>1.8</td>\n      <td>0.31</td>\n      <td>0.039</td>\n      <td>0</td>\n      <td>26.7</td>\n      <td>0.0</td>\n      <td>0.20</td>\n      <td>37</td>\n      <td>12</td>\n      <td>0.15</td>\n      <td>166</td>\n      <td>2</td>\n      <td>0.042</td>\n      <td>20</td>\n      <td>85.17</td>\n      <td>0.07</td>\n    </tr>\n    <tr>\n      <th>3</th>\n      <td>Grapefruit</td>\n      <td>Citrus fruits</td>\n      <td>42</td>\n      <td>0.77</td>\n      <td>10.66</td>\n      <td>6.89</td>\n      <td>1.6</td>\n      <td>0.14</td>\n      <td>0.021</td>\n      <td>0</td>\n      <td>31.2</td>\n      <td>0.0</td>\n      <td>0.13</td>\n      <td>22</td>\n      <td>9</td>\n      <td>0.08</td>\n      <td>135</td>\n      <td>0</td>\n      <td>0.032</td>\n      <td>18</td>\n      <td>88.06</td>\n      <td>0.07</td>\n    </tr>\n    <tr>\n      <th>4</th>\n      <td>Kumquat</td>\n      <td>Citrus fruits</td>\n      <td>71</td>\n      <td>1.88</td>\n      <td>15.90</td>\n      <td>9.36</td>\n      <td>6.5</td>\n      <td>0.86</td>\n      <td>0.103</td>\n      <td>0</td>\n      <td>43.9</td>\n      <td>0.0</td>\n      <td>0.15</td>\n      <td>62</td>\n      <td>20</td>\n      <td>0.86</td>\n      <td>186</td>\n      <td>10</td>\n      <td>0.095</td>\n      <td>19</td>\n      <td>80.85</td>\n      <td>0.17</td>\n    </tr>\n  </tbody>\n</table>\n</div>"
     },
     "metadata": {},
     "execution_count": 58
    }
   ],
   "source": [
    "fruits_veggies_1 = fruits_veggies_1.drop(columns=[\"Caffeine (mg)\"])\n",
    "fruits_veggies_1.head()"
   ]
  },
  {
   "cell_type": "code",
   "execution_count": 59,
   "metadata": {},
   "outputs": [],
   "source": [
    "fruits_veggies_1 = fruits_veggies_1.rename(columns={\"Fiber, total dietary (g)\" : \"Fiber total dietary (g)\",\n",
    "                                 \"Vitamin_E (mg)\": \"Vitamin E (mg)\",\n",
    "                                 \"Vitamin_D (mcg)\": \"Vitamin D (ug)\",\n",
    "                                 \"Sugars(g)\": \"Sugar (g)\",\n",
    "                                 \"Saturated_fat\": \"Saturated_fat (g)\"\n",
    "                                 })"
   ]
  },
  {
   "cell_type": "code",
   "execution_count": 60,
   "metadata": {},
   "outputs": [
    {
     "output_type": "execute_result",
     "data": {
      "text/plain": "  Food_description      Food_type  ...  Saturated_fat (g)  Fiber total dietary (g)\n0           Apple          Apples  ...              0.028                      2.4\n1          Banana         Bananas  ...              0.112                      2.6\n2      Clementine   Citrus fruits  ...              0.039                      1.8\n3      Grapefruit   Citrus fruits  ...              0.021                      1.6\n4         Kumquat   Citrus fruits  ...              0.103                      6.5\n\n[5 rows x 22 columns]",
      "text/html": "<div>\n<style scoped>\n    .dataframe tbody tr th:only-of-type {\n        vertical-align: middle;\n    }\n\n    .dataframe tbody tr th {\n        vertical-align: top;\n    }\n\n    .dataframe thead th {\n        text-align: right;\n    }\n</style>\n<table border=\"1\" class=\"dataframe\">\n  <thead>\n    <tr style=\"text-align: right;\">\n      <th></th>\n      <th>Food_description</th>\n      <th>Food_type</th>\n      <th>Energy (kcal)</th>\n      <th>Water (g)</th>\n      <th>Sugar (g)</th>\n      <th>Vitamin C (mg)</th>\n      <th>Calcium (mg)</th>\n      <th>Carbohydrate (g)</th>\n      <th>Cholesterol (mg)</th>\n      <th>Protein (g)</th>\n      <th>Sodium (mg)</th>\n      <th>Vitamin D (ug)</th>\n      <th>Vitamin E (mg)</th>\n      <th>Copper (mg)</th>\n      <th>Iron (mg)</th>\n      <th>Magnesium (mg)</th>\n      <th>Phosphorus (mg)</th>\n      <th>Potassium (mg)</th>\n      <th>Zinc (mg)</th>\n      <th>Total Fat (g)</th>\n      <th>Saturated_fat (g)</th>\n      <th>Fiber total dietary (g)</th>\n    </tr>\n  </thead>\n  <tbody>\n    <tr>\n      <th>0</th>\n      <td>Apple</td>\n      <td>Apples</td>\n      <td>52</td>\n      <td>85.56</td>\n      <td>10.39</td>\n      <td>4.6</td>\n      <td>6</td>\n      <td>13.81</td>\n      <td>0</td>\n      <td>0.26</td>\n      <td>1</td>\n      <td>0.0</td>\n      <td>0.18</td>\n      <td>0.027</td>\n      <td>0.12</td>\n      <td>5</td>\n      <td>11</td>\n      <td>107</td>\n      <td>0.04</td>\n      <td>0.17</td>\n      <td>0.028</td>\n      <td>2.4</td>\n    </tr>\n    <tr>\n      <th>1</th>\n      <td>Banana</td>\n      <td>Bananas</td>\n      <td>89</td>\n      <td>74.91</td>\n      <td>12.23</td>\n      <td>8.7</td>\n      <td>5</td>\n      <td>22.84</td>\n      <td>0</td>\n      <td>1.09</td>\n      <td>1</td>\n      <td>0.0</td>\n      <td>0.10</td>\n      <td>0.078</td>\n      <td>0.26</td>\n      <td>27</td>\n      <td>22</td>\n      <td>358</td>\n      <td>0.15</td>\n      <td>0.33</td>\n      <td>0.112</td>\n      <td>2.6</td>\n    </tr>\n    <tr>\n      <th>2</th>\n      <td>Clementine</td>\n      <td>Citrus fruits</td>\n      <td>53</td>\n      <td>85.17</td>\n      <td>10.58</td>\n      <td>26.7</td>\n      <td>37</td>\n      <td>13.34</td>\n      <td>0</td>\n      <td>0.81</td>\n      <td>2</td>\n      <td>0.0</td>\n      <td>0.20</td>\n      <td>0.042</td>\n      <td>0.15</td>\n      <td>12</td>\n      <td>20</td>\n      <td>166</td>\n      <td>0.07</td>\n      <td>0.31</td>\n      <td>0.039</td>\n      <td>1.8</td>\n    </tr>\n    <tr>\n      <th>3</th>\n      <td>Grapefruit</td>\n      <td>Citrus fruits</td>\n      <td>42</td>\n      <td>88.06</td>\n      <td>6.89</td>\n      <td>31.2</td>\n      <td>22</td>\n      <td>10.66</td>\n      <td>0</td>\n      <td>0.77</td>\n      <td>0</td>\n      <td>0.0</td>\n      <td>0.13</td>\n      <td>0.032</td>\n      <td>0.08</td>\n      <td>9</td>\n      <td>18</td>\n      <td>135</td>\n      <td>0.07</td>\n      <td>0.14</td>\n      <td>0.021</td>\n      <td>1.6</td>\n    </tr>\n    <tr>\n      <th>4</th>\n      <td>Kumquat</td>\n      <td>Citrus fruits</td>\n      <td>71</td>\n      <td>80.85</td>\n      <td>9.36</td>\n      <td>43.9</td>\n      <td>62</td>\n      <td>15.90</td>\n      <td>0</td>\n      <td>1.88</td>\n      <td>10</td>\n      <td>0.0</td>\n      <td>0.15</td>\n      <td>0.095</td>\n      <td>0.86</td>\n      <td>20</td>\n      <td>19</td>\n      <td>186</td>\n      <td>0.17</td>\n      <td>0.86</td>\n      <td>0.103</td>\n      <td>6.5</td>\n    </tr>\n  </tbody>\n</table>\n</div>"
     },
     "metadata": {},
     "execution_count": 60
    }
   ],
   "source": [
    "fruits_veggies_1 = fruits_veggies_1[['Food_description', 'Food_type', 'Energy (kcal)', 'Water (g)', 'Sugar (g)', 'Vitamin C (mg)', 'Calcium (mg)', 'Carbohydrate (g)',\n",
    "       'Cholesterol (mg)', 'Protein (g)', 'Sodium (mg)', 'Vitamin D (ug)', \n",
    "       'Vitamin E (mg)', 'Copper (mg)', 'Iron (mg)', 'Magnesium (mg)', \n",
    "       'Phosphorus (mg)', 'Potassium (mg)', 'Zinc (mg)', 'Total Fat (g)', \n",
    "       'Saturated_fat (g)','Fiber total dietary (g)'\n",
    "                                     ]]\n",
    "\n",
    "fruits_veggies_1.head()"
   ]
  },
  {
   "cell_type": "code",
   "execution_count": 61,
   "metadata": {},
   "outputs": [],
   "source": [
    "fruits_veggies_1.to_csv(\"new_fruits_veggies_1.csv\",index=False)"
   ]
  },
  {
   "cell_type": "code",
   "execution_count": null,
   "metadata": {},
   "outputs": [],
   "source": []
  }
 ],
 "metadata": {
  "kernelspec": {
   "display_name": "Python 3",
   "language": "python",
   "name": "python3"
  },
  "language_info": {
   "codemirror_mode": {
    "name": "ipython",
    "version": 3
   },
   "file_extension": ".py",
   "mimetype": "text/x-python",
   "name": "python",
   "nbconvert_exporter": "python",
   "pygments_lexer": "ipython3",
   "version": "3.7.6-final"
  }
 },
 "nbformat": 4,
 "nbformat_minor": 2
}